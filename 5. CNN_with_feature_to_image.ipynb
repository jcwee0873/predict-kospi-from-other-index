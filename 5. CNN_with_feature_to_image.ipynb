{
 "cells": [
  {
   "cell_type": "markdown",
   "id": "f91facb4",
   "metadata": {},
   "source": [
    "# 추가된 Feature을 이미지 Shape로 변경하여 CNN 적용"
   ]
  },
  {
   "cell_type": "code",
   "execution_count": 1,
   "id": "3a858d23",
   "metadata": {},
   "outputs": [],
   "source": [
    "import pandas as pd\n",
    "import numpy as np\n",
    "import matplotlib.pyplot as plt\n",
    "import seaborn as sns\n",
    "\n",
    "import FinanceDataReader as fdr\n",
    "\n",
    "import os"
   ]
  },
  {
   "cell_type": "code",
   "execution_count": 5,
   "id": "68a9f71e",
   "metadata": {},
   "outputs": [],
   "source": [
    "nasdaq = pd.read_csv('/Users/jcwee/Library/Mobile Documents/com~apple~CloudDocs/src/bitcamp_fintech/project/6. team project4/data/nasdaq.csv', index_col=0, parse_dates=True)\n",
    "snp = pd.read_csv('/Users/jcwee/Library/Mobile Documents/com~apple~CloudDocs/src/bitcamp_fintech/project/6. team project4/data/snp500.csv', index_col=0, parse_dates=True)\n",
    "ftse = pd.read_csv('/Users/jcwee/Library/Mobile Documents/com~apple~CloudDocs/src/bitcamp_fintech/project/6. team project4/data/ftse.csv', index_col=0, parse_dates=True)\n",
    "dax = pd.read_csv('/Users/jcwee/Library/Mobile Documents/com~apple~CloudDocs/src/bitcamp_fintech/project/6. team project4/data/dax.csv', index_col=0, parse_dates=True)\n",
    "nikkei = pd.read_csv('/Users/jcwee/Library/Mobile Documents/com~apple~CloudDocs/src/bitcamp_fintech/project/6. team project4/data/nikkei.csv', index_col=1, parse_dates=True)\n",
    "hangseng = pd.read_csv('/Users/jcwee/Library/Mobile Documents/com~apple~CloudDocs/src/bitcamp_fintech/project/6. team project4/data/hang.csv', index_col=0, parse_dates=True)\n",
    "sanghai = pd.read_csv('/Users/jcwee/Library/Mobile Documents/com~apple~CloudDocs/src/bitcamp_fintech/project/6. team project4/data/sanghai.csv', index_col=0, parse_dates=True)\n",
    "vix = pd.read_csv('/Users/jcwee/Library/Mobile Documents/com~apple~CloudDocs/src/bitcamp_fintech/project/6. team project4/data/vix.csv', index_col=0, parse_dates=True)\n",
    "kospi = pd.read_csv('/Users/jcwee/Library/Mobile Documents/com~apple~CloudDocs/src/bitcamp_fintech/project/6. team project4/data/kospi.csv', index_col=0, parse_dates=True)\n",
    "kosdaq = pd.read_csv('/Users/jcwee/Library/Mobile Documents/com~apple~CloudDocs/src/bitcamp_fintech/project/6. team project4/data/kosdaq.csv', index_col=0, parse_dates=True)"
   ]
  },
  {
   "cell_type": "code",
   "execution_count": 6,
   "id": "5be2c9a0",
   "metadata": {},
   "outputs": [],
   "source": [
    "nasdaq.sort_index(inplace=True)\n",
    "snp.sort_index(inplace=True)\n",
    "ftse.sort_index(inplace=True)\n",
    "dax.sort_index(inplace=True)\n",
    "nikkei.sort_index(inplace=True)\n",
    "hangseng.sort_index(inplace=True)\n",
    "sanghai.sort_index(inplace=True)\n",
    "kospi.sort_index(inplace=True)\n",
    "kosdaq.sort_index(inplace=True)"
   ]
  },
  {
   "cell_type": "code",
   "execution_count": 7,
   "id": "86532765",
   "metadata": {},
   "outputs": [],
   "source": [
    "nasdaq['Close'] = nasdaq.Close.apply(lambda x : pd.to_numeric(x.replace(',', '')))\n",
    "dax['Close'] = dax.Close.apply(lambda x : pd.to_numeric(x.replace(',', '')))\n",
    "nikkei['Close'] = nikkei['종가'].apply(lambda x : pd.to_numeric(x.replace(',', '')))\n",
    "hangseng['Close'] = hangseng.Close.apply(lambda x : pd.to_numeric(x.replace(',', '')))\n",
    "\n",
    "nasdaq['Open'] = nasdaq.Open.apply(lambda x : pd.to_numeric(x.replace(',', '')))\n",
    "dax['Open'] = dax.Open.apply(lambda x : pd.to_numeric(x.replace(',', '')))\n",
    "nikkei['Open'] = nikkei['오픈'].apply(lambda x : pd.to_numeric(x.replace(',', '')))\n",
    "hangseng['Open'] = hangseng.Open.apply(lambda x : pd.to_numeric(x.replace(',', '')))\n",
    "\n",
    "nasdaq['High'] = nasdaq.High.apply(lambda x : pd.to_numeric(x.replace(',', '')))\n",
    "dax['High'] = dax.High.apply(lambda x : pd.to_numeric(x.replace(',', '')))\n",
    "nikkei['High'] = nikkei['고가'].apply(lambda x : pd.to_numeric(x.replace(',', '')))\n",
    "hangseng['High'] = hangseng.High.apply(lambda x : pd.to_numeric(x.replace(',', '')))\n",
    "\n",
    "nasdaq['Low'] = nasdaq.Low.apply(lambda x : pd.to_numeric(x.replace(',', '')))\n",
    "dax['Low'] = dax.Low.apply(lambda x : pd.to_numeric(x.replace(',', '')))\n",
    "nikkei['Low'] = nikkei['저가'].apply(lambda x : pd.to_numeric(x.replace(',', '')))\n",
    "hangseng['Low'] = hangseng.Low.apply(lambda x : pd.to_numeric(x.replace(',', '')))"
   ]
  },
  {
   "cell_type": "code",
   "execution_count": 8,
   "id": "c4eeba00",
   "metadata": {},
   "outputs": [],
   "source": [
    "df_list = [nasdaq, snp, ftse, dax, nikkei, hangseng, sanghai, kospi]"
   ]
  },
  {
   "cell_type": "code",
   "execution_count": 9,
   "id": "efcdbc9b",
   "metadata": {},
   "outputs": [],
   "source": [
    "df1 = []\n",
    "df2 = []\n",
    "df3 = []\n",
    "df4 = []\n",
    "df5 = []\n",
    "df6 = []\n",
    "df7 = []\n",
    "df8 = []\n",
    "df9 = []\n",
    "for df in df_list:\n",
    "    df1.append((df.Close - df.Close.shift(1)) / df.Close.shift(1))\n",
    "    df2.append((df.Close - df.Open) / df.Open)\n",
    "    df3.append((df.High - df.Low) / df.Low)\n",
    "    df4.append((df.High - df.Close) / df.Close)\n",
    "    df5.append((df.Low - df.Close) / df.Close)\n",
    "    df6.append((df.Open - df.Open.shift(1)) / df.Open.shift(1))\n",
    "    df7.append((df.Open - df.Close.shift(1)) / df.Close.shift(1))\n",
    "    df8.append((df.High - df.High.shift(1)) / df.High.shift(1))\n",
    "    df9.append((df.Low - df.Low.shift(1)) / df.Low.shift(1))"
   ]
  },
  {
   "cell_type": "code",
   "execution_count": 10,
   "id": "ef8f02e2",
   "metadata": {},
   "outputs": [],
   "source": [
    "df1 = pd.concat(df1, axis=1)\n",
    "df2 = pd.concat(df2, axis=1)\n",
    "df3 = pd.concat(df3, axis=1)\n",
    "df4 = pd.concat(df4, axis=1)\n",
    "df5 = pd.concat(df5, axis=1)\n",
    "df6 = pd.concat(df6, axis=1)\n",
    "df7 = pd.concat(df7, axis=1)\n",
    "df8 = pd.concat(df8, axis=1)\n",
    "df9 = pd.concat(df9, axis=1)\n",
    "\n",
    "tail = '_1'\n",
    "col_names = [f'NASDAQ{tail}', f'S&P500{tail}', f'FTSE{tail}', f'DAX{tail}',\n",
    "             f'NIKKEI{tail}', f'HANGSENG{tail}', f'SANGHAI{tail}', f'KOSPI{tail}']\n",
    "df1.columns = col_names\n",
    "\n",
    "tail = '_2'\n",
    "col_names = [f'NASDAQ{tail}', f'S&P500{tail}', f'FTSE{tail}', f'DAX{tail}',\n",
    "             f'NIKKEI{tail}', f'HANGSENG{tail}', f'SANGHAI{tail}', f'KOSPI{tail}']\n",
    "df2.columns = col_names\n",
    "\n",
    "tail = '_3'\n",
    "col_names = [f'NASDAQ{tail}', f'S&P500{tail}', f'FTSE{tail}', f'DAX{tail}',\n",
    "             f'NIKKEI{tail}', f'HANGSENG{tail}', f'SANGHAI{tail}', f'KOSPI{tail}']\n",
    "df3.columns = col_names\n",
    "\n",
    "tail = '_4'\n",
    "col_names = [f'NASDAQ{tail}', f'S&P500{tail}', f'FTSE{tail}', f'DAX{tail}',\n",
    "             f'NIKKEI{tail}', f'HANGSENG{tail}', f'SANGHAI{tail}', f'KOSPI{tail}']\n",
    "df4.columns = col_names\n",
    "\n",
    "tail = '_5'\n",
    "col_names = [f'NASDAQ{tail}', f'S&P500{tail}', f'FTSE{tail}', f'DAX{tail}',\n",
    "             f'NIKKEI{tail}', f'HANGSENG{tail}', f'SANGHAI{tail}', f'KOSPI{tail}']\n",
    "df5.columns = col_names\n",
    "\n",
    "tail = '_6'\n",
    "col_names = [f'NASDAQ{tail}', f'S&P500{tail}', f'FTSE{tail}', f'DAX{tail}',\n",
    "             f'NIKKEI{tail}', f'HANGSENG{tail}', f'SANGHAI{tail}', f'KOSPI{tail}']\n",
    "df6.columns = col_names\n",
    "\n",
    "tail = '_7'\n",
    "col_names = [f'NASDAQ{tail}', f'S&P500{tail}', f'FTSE{tail}', f'DAX{tail}',\n",
    "             f'NIKKEI{tail}', f'HANGSENG{tail}', f'SANGHAI{tail}', f'KOSPI{tail}']\n",
    "df7.columns = col_names\n",
    "\n",
    "tail = '_8'\n",
    "col_names = [f'NASDAQ{tail}', f'S&P500{tail}', f'FTSE{tail}', f'DAX{tail}',\n",
    "             f'NIKKEI{tail}', f'HANGSENG{tail}', f'SANGHAI{tail}', f'KOSPI{tail}']\n",
    "df8.columns = col_names\n",
    "\n",
    "tail = '_9'\n",
    "col_names = [f'NASDAQ{tail}', f'S&P500{tail}', f'FTSE{tail}', f'DAX{tail}',\n",
    "             f'NIKKEI{tail}', f'HANGSENG{tail}', f'SANGHAI{tail}', f'KOSPI{tail}']\n",
    "df9.columns = col_names"
   ]
  },
  {
   "cell_type": "code",
   "execution_count": 11,
   "id": "e1cefecc",
   "metadata": {},
   "outputs": [],
   "source": [
    "final_df = pd.concat([df1, df2, df3, df4, df5, df6, df7, df8, df9], axis=1)"
   ]
  },
  {
   "cell_type": "code",
   "execution_count": 12,
   "id": "eae021f1",
   "metadata": {},
   "outputs": [],
   "source": [
    "final_df = pd.merge(pd.DataFrame(pd.date_range('2001-01-01', '2021-11-11')).set_index(0),final_df,how='outer', left_index=True, right_index=True)"
   ]
  },
  {
   "cell_type": "code",
   "execution_count": 13,
   "id": "de4f8efa",
   "metadata": {},
   "outputs": [],
   "source": [
    "final_df.fillna(0, inplace=True)"
   ]
  },
  {
   "cell_type": "code",
   "execution_count": 14,
   "id": "7fd70b8e",
   "metadata": {},
   "outputs": [],
   "source": [
    "final_df = final_df.loc['2001-01-03' : '2021-11-11']"
   ]
  },
  {
   "cell_type": "code",
   "execution_count": null,
   "id": "eb4d2a41",
   "metadata": {},
   "outputs": [],
   "source": []
  },
  {
   "cell_type": "code",
   "execution_count": 15,
   "id": "397c9b9e",
   "metadata": {},
   "outputs": [],
   "source": [
    "y = (kospi.Open - kospi.Close.shift(1)) / kospi.Close.shift(1)"
   ]
  },
  {
   "cell_type": "code",
   "execution_count": 16,
   "id": "3c705bfb",
   "metadata": {},
   "outputs": [],
   "source": [
    "y.name = 'y'\n",
    "y = pd.merge(pd.DataFrame(pd.date_range('2001-01-01', '2021-11-11')).set_index(0),y,how='outer', left_index=True, right_index=True)"
   ]
  },
  {
   "cell_type": "code",
   "execution_count": 17,
   "id": "568aa1b3",
   "metadata": {},
   "outputs": [],
   "source": [
    "y_df = y.loc['2001-01-03' : '2021-11-11']"
   ]
  },
  {
   "cell_type": "code",
   "execution_count": 18,
   "id": "f23bbb1b",
   "metadata": {},
   "outputs": [
    {
     "data": {
      "text/html": [
       "<div>\n",
       "<style scoped>\n",
       "    .dataframe tbody tr th:only-of-type {\n",
       "        vertical-align: middle;\n",
       "    }\n",
       "\n",
       "    .dataframe tbody tr th {\n",
       "        vertical-align: top;\n",
       "    }\n",
       "\n",
       "    .dataframe thead th {\n",
       "        text-align: right;\n",
       "    }\n",
       "</style>\n",
       "<table border=\"1\" class=\"dataframe\">\n",
       "  <thead>\n",
       "    <tr style=\"text-align: right;\">\n",
       "      <th></th>\n",
       "      <th>y</th>\n",
       "    </tr>\n",
       "  </thead>\n",
       "  <tbody>\n",
       "    <tr>\n",
       "      <th>2001-01-03</th>\n",
       "      <td>-0.015760</td>\n",
       "    </tr>\n",
       "    <tr>\n",
       "      <th>2001-01-04</th>\n",
       "      <td>0.057726</td>\n",
       "    </tr>\n",
       "    <tr>\n",
       "      <th>2001-01-05</th>\n",
       "      <td>0.002724</td>\n",
       "    </tr>\n",
       "    <tr>\n",
       "      <th>2001-01-06</th>\n",
       "      <td>NaN</td>\n",
       "    </tr>\n",
       "    <tr>\n",
       "      <th>2001-01-07</th>\n",
       "      <td>NaN</td>\n",
       "    </tr>\n",
       "    <tr>\n",
       "      <th>2001-01-08</th>\n",
       "      <td>-0.012275</td>\n",
       "    </tr>\n",
       "    <tr>\n",
       "      <th>2001-01-09</th>\n",
       "      <td>-0.004773</td>\n",
       "    </tr>\n",
       "    <tr>\n",
       "      <th>2001-01-10</th>\n",
       "      <td>-0.005577</td>\n",
       "    </tr>\n",
       "    <tr>\n",
       "      <th>2001-01-11</th>\n",
       "      <td>0.013284</td>\n",
       "    </tr>\n",
       "    <tr>\n",
       "      <th>2001-01-12</th>\n",
       "      <td>0.030545</td>\n",
       "    </tr>\n",
       "  </tbody>\n",
       "</table>\n",
       "</div>"
      ],
      "text/plain": [
       "                   y\n",
       "2001-01-03 -0.015760\n",
       "2001-01-04  0.057726\n",
       "2001-01-05  0.002724\n",
       "2001-01-06       NaN\n",
       "2001-01-07       NaN\n",
       "2001-01-08 -0.012275\n",
       "2001-01-09 -0.004773\n",
       "2001-01-10 -0.005577\n",
       "2001-01-11  0.013284\n",
       "2001-01-12  0.030545"
      ]
     },
     "execution_count": 18,
     "metadata": {},
     "output_type": "execute_result"
    }
   ],
   "source": [
    "y_df.head(10)"
   ]
  },
  {
   "cell_type": "code",
   "execution_count": 19,
   "id": "35a88d96",
   "metadata": {},
   "outputs": [],
   "source": [
    "holiday_index = y_df[y_df.y.isnull()].index"
   ]
  },
  {
   "cell_type": "code",
   "execution_count": null,
   "id": "d3506929",
   "metadata": {},
   "outputs": [],
   "source": []
  },
  {
   "cell_type": "code",
   "execution_count": 20,
   "id": "0a7eef85",
   "metadata": {},
   "outputs": [],
   "source": [
    "from datetime import timedelta"
   ]
  },
  {
   "cell_type": "code",
   "execution_count": 21,
   "id": "05b04add",
   "metadata": {},
   "outputs": [],
   "source": [
    "# N번째 휴일의 시작 날짜, 처음 값을 0번째 인덱스 값으로 지정.\n",
    "start_day = holiday_index[0]\n",
    "\n",
    "# N번째 휴일의 종료 날짜\n",
    "end_day = holiday_index[0]\n",
    "\n",
    "# 휴일기간을 담기위한 목록\n",
    "holiday_list = []\n",
    "\n",
    "for i in range(1, len(holiday_index)) :\n",
    "    \n",
    "    # N번째 휴일 날짜를 N-1번째 휴일 날짜와 비교해서, 날짜의 차이가 1일이면\n",
    "    if (holiday_index[i] - holiday_index[i-1]) == timedelta(days=1) :\n",
    "        \n",
    "        # 연속된 휴일로 보고 휴일 종료 날짜를 +1일\n",
    "        end_day = holiday_index[i]\n",
    "        \n",
    "    # N번째 휴일 날짜와 N-1번째 휴일 날짜를 비교해서, 날짜의 차이가 1일이 아니면 -> 새로운 휴일의 시작으로 보고 시작과 끝을 바꿔줌.\n",
    "    else :\n",
    "        \n",
    "        # 새로운 휴일을 시작하기 전에 정해진(이전 휴일기간)의 시작과 끝 날짜를 리스트에 담아줌.\n",
    "        holiday_list.append((start_day, end_day))\n",
    "        \n",
    "        # 새로운 휴일 시작 날짜를 새로 지정\n",
    "        start_day = holiday_index[i]\n",
    "        \n",
    "        # 새로운 휴일 종료 날짜도 새로 지정\n",
    "        end_day = holiday_index[i]"
   ]
  },
  {
   "cell_type": "code",
   "execution_count": 22,
   "id": "be8f926b",
   "metadata": {},
   "outputs": [],
   "source": [
    "one_day = timedelta(days=1)\n",
    "\n",
    "X = []\n",
    "y = []\n",
    "\n",
    "temp = None\n",
    "\n",
    "for idx in range(len(holiday_list)) :\n",
    "    \n",
    "    #휴일 시작일\n",
    "    holiday_start = holiday_list[idx][0]\n",
    "    \n",
    "    #휴일 종료일\n",
    "    holiday_end = holiday_list[idx][1]\n",
    "    \n",
    "    # 타겟 날짜(휴일 다음날의 날짜)\n",
    "    target_day = holiday_end + one_day\n",
    "    \n",
    "    # 휴일기간 및 D+1일 지수 변동 데이터\n",
    "    n_holiday = final_df.loc[holiday_start - one_day : holiday_end]\n",
    "    \n",
    "#     if len(n_holiday) > 3:\n",
    "#         temp = n_holiday\n",
    "#         break\n",
    "    \n",
    "    # 휴일 기간 동안 지수들의 누적 변동률\n",
    "    n_holiday_change = (n_holiday + 1).cumprod() - 1\n",
    "\n",
    "    # KOSPI, KOSDAQ을 제외한 지수들의 누적수익률 데이터\n",
    "    X_data = n_holiday_change.loc[holiday_end].apply(lambda x : round(x, 4))\n",
    "\n",
    "    # D+1일 KOSPI의 실제 수익률 y\n",
    "    y_data = y_df.loc[target_day].apply(lambda x : round(x, 4))['y']\n",
    "\n",
    "    X.append(X_data.values)\n",
    "    y.append(y_data)"
   ]
  },
  {
   "cell_type": "code",
   "execution_count": 23,
   "id": "f226f7df",
   "metadata": {},
   "outputs": [],
   "source": [
    "X = np.array(X)\n",
    "y = np.array(y)"
   ]
  },
  {
   "cell_type": "code",
   "execution_count": null,
   "id": "b036d0c7",
   "metadata": {},
   "outputs": [],
   "source": []
  },
  {
   "cell_type": "markdown",
   "id": "13140693",
   "metadata": {},
   "source": [
    "## CNN적용을 위해 X 값 reshape"
   ]
  },
  {
   "cell_type": "code",
   "execution_count": 24,
   "id": "78acce5d",
   "metadata": {},
   "outputs": [
    {
     "data": {
      "text/plain": [
       "(1188, 72)"
      ]
     },
     "execution_count": 24,
     "metadata": {},
     "output_type": "execute_result"
    }
   ],
   "source": [
    "X.shape"
   ]
  },
  {
   "cell_type": "code",
   "execution_count": 25,
   "id": "1088fc3a",
   "metadata": {},
   "outputs": [
    {
     "data": {
      "text/plain": [
       "array([-0.062 , -0.0262,  0.002 ,  0.0009,  0.    ,  0.014 ,  0.0037,\n",
       "        0.0409, -0.0643, -0.0262,  0.002 , -0.0002,  0.0076,  0.0061,\n",
       "        0.0036,  0.0381,  0.0748,  0.0308,  0.0137,  0.0223,  0.0161,\n",
       "        0.0143,  0.0054,  0.0468,  0.0694,  0.0281,  0.0067,  0.0161,\n",
       "        0.0057,  0.003 ,  0.    ,  0.001 , -0.0051, -0.0026, -0.007 ,\n",
       "       -0.006 , -0.0103, -0.0111, -0.0053, -0.0438, -0.0081, -0.0106,\n",
       "        0.0241, -0.0094,  0.    ,  0.0195, -0.0037,  0.0145,  0.0025,\n",
       "        0.    ,  0.    ,  0.0011,  0.    ,  0.0078,  0.0001,  0.0027,\n",
       "       -0.0265, -0.0115,  0.0072, -0.0109,  0.    ,  0.0119, -0.001 ,\n",
       "        0.0251, -0.0606, -0.0257,  0.0191, -0.002 ,  0.    ,  0.0143,\n",
       "        0.0004,  0.0082])"
      ]
     },
     "execution_count": 25,
     "metadata": {},
     "output_type": "execute_result"
    }
   ],
   "source": [
    "X[0]"
   ]
  },
  {
   "cell_type": "code",
   "execution_count": 26,
   "id": "78c36a87",
   "metadata": {},
   "outputs": [],
   "source": [
    "X_cnn = (X * 1000).reshape(-1, 8,9,1)"
   ]
  },
  {
   "cell_type": "code",
   "execution_count": 31,
   "id": "b6e8b97f",
   "metadata": {
    "scrolled": true
   },
   "outputs": [
    {
     "data": {
      "text/plain": [
       "array([[[-62. ],\n",
       "        [-26.2],\n",
       "        [  2. ],\n",
       "        [  0.9],\n",
       "        [  0. ],\n",
       "        [ 14. ],\n",
       "        [  3.7],\n",
       "        [ 40.9],\n",
       "        [-64.3]],\n",
       "\n",
       "       [[-26.2],\n",
       "        [  2. ],\n",
       "        [ -0.2],\n",
       "        [  7.6],\n",
       "        [  6.1],\n",
       "        [  3.6],\n",
       "        [ 38.1],\n",
       "        [ 74.8],\n",
       "        [ 30.8]],\n",
       "\n",
       "       [[ 13.7],\n",
       "        [ 22.3],\n",
       "        [ 16.1],\n",
       "        [ 14.3],\n",
       "        [  5.4],\n",
       "        [ 46.8],\n",
       "        [ 69.4],\n",
       "        [ 28.1],\n",
       "        [  6.7]],\n",
       "\n",
       "       [[ 16.1],\n",
       "        [  5.7],\n",
       "        [  3. ],\n",
       "        [  0. ],\n",
       "        [  1. ],\n",
       "        [ -5.1],\n",
       "        [ -2.6],\n",
       "        [ -7. ],\n",
       "        [ -6. ]],\n",
       "\n",
       "       [[-10.3],\n",
       "        [-11.1],\n",
       "        [ -5.3],\n",
       "        [-43.8],\n",
       "        [ -8.1],\n",
       "        [-10.6],\n",
       "        [ 24.1],\n",
       "        [ -9.4],\n",
       "        [  0. ]],\n",
       "\n",
       "       [[ 19.5],\n",
       "        [ -3.7],\n",
       "        [ 14.5],\n",
       "        [  2.5],\n",
       "        [  0. ],\n",
       "        [  0. ],\n",
       "        [  1.1],\n",
       "        [  0. ],\n",
       "        [  7.8]],\n",
       "\n",
       "       [[  0.1],\n",
       "        [  2.7],\n",
       "        [-26.5],\n",
       "        [-11.5],\n",
       "        [  7.2],\n",
       "        [-10.9],\n",
       "        [  0. ],\n",
       "        [ 11.9],\n",
       "        [ -1. ]],\n",
       "\n",
       "       [[ 25.1],\n",
       "        [-60.6],\n",
       "        [-25.7],\n",
       "        [ 19.1],\n",
       "        [ -2. ],\n",
       "        [  0. ],\n",
       "        [ 14.3],\n",
       "        [  0.4],\n",
       "        [  8.2]]])"
      ]
     },
     "execution_count": 31,
     "metadata": {},
     "output_type": "execute_result"
    }
   ],
   "source": [
    "X_cnn[0]"
   ]
  },
  {
   "cell_type": "code",
   "execution_count": 188,
   "id": "3e7c5401",
   "metadata": {},
   "outputs": [
    {
     "data": {
      "text/plain": [
       "(1188, 6, 4, 3)"
      ]
     },
     "execution_count": 188,
     "metadata": {},
     "output_type": "execute_result"
    }
   ],
   "source": [
    "X_cnn.shape"
   ]
  },
  {
   "cell_type": "code",
   "execution_count": 218,
   "id": "8d96b03d",
   "metadata": {},
   "outputs": [
    {
     "data": {
      "text/plain": [
       "<matplotlib.image.AxesImage at 0x2d97b1310>"
      ]
     },
     "execution_count": 218,
     "metadata": {},
     "output_type": "execute_result"
    },
    {
     "data": {
      "image/png": "[encoded data removed]",
      "text/plain": [
       "<Figure size 432x288 with 1 Axes>"
      ]
     },
     "metadata": {
      "needs_background": "light"
     },
     "output_type": "display_data"
    }
   ],
   "source": [
    "plt.imshow(X_cnn[0])"
   ]
  },
  {
   "cell_type": "code",
   "execution_count": null,
   "id": "d6a81fd7",
   "metadata": {},
   "outputs": [],
   "source": []
  },
  {
   "cell_type": "markdown",
   "id": "d93795eb",
   "metadata": {},
   "source": [
    "## CNN 적용"
   ]
  },
  {
   "cell_type": "code",
   "execution_count": 225,
   "id": "3582309c",
   "metadata": {},
   "outputs": [],
   "source": [
    "from sklearn.model_selection import train_test_split\n",
    "\n",
    "X_train, X_test, y_train, y_test = train_test_split(X_cnn,y, test_size=0.1)"
   ]
  },
  {
   "cell_type": "code",
   "execution_count": 657,
   "id": "72211c81",
   "metadata": {},
   "outputs": [],
   "source": [
    "from tensorflow.keras.models import Sequential\n",
    "from tensorflow.keras import models\n",
    "from tensorflow.keras import layers\n",
    "import tensorflow as tf\n",
    "\n",
    "from tensorflow.keras.callbacks import ModelCheckpoint\n",
    "from tensorflow.keras.callbacks import EarlyStopping"
   ]
  },
  {
   "cell_type": "code",
   "execution_count": 650,
   "id": "b20ee3b1",
   "metadata": {},
   "outputs": [
    {
     "name": "stdout",
     "output_type": "stream",
     "text": [
      "Model: \"sequential_128\"\n",
      "_________________________________________________________________\n",
      "Layer (type)                 Output Shape              Param #   \n",
      "=================================================================\n",
      "batch_normalization_104 (Bat (None, 8, 9, 1)           4         \n",
      "_________________________________________________________________\n",
      "conv2d_224 (Conv2D)          (None, 7, 8, 16)          80        \n",
      "_________________________________________________________________\n",
      "conv2d_225 (Conv2D)          (None, 6, 7, 32)          2080      \n",
      "_________________________________________________________________\n",
      "conv2d_226 (Conv2D)          (None, 5, 6, 64)          8256      \n",
      "_________________________________________________________________\n",
      "flatten_103 (Flatten)        (None, 1920)              0         \n",
      "_________________________________________________________________\n",
      "dense_259 (Dense)            (None, 15)                28815     \n",
      "_________________________________________________________________\n",
      "dense_260 (Dense)            (None, 1)                 16        \n",
      "=================================================================\n",
      "Total params: 39,251\n",
      "Trainable params: 39,249\n",
      "Non-trainable params: 2\n",
      "_________________________________________________________________\n"
     ]
    }
   ],
   "source": [
    "leaky_relu = tf.nn.leaky_relu\n",
    "# leaky_relu = 'relu'\n",
    "\n",
    "model = models.Sequential()\n",
    "\n",
    "model.add(layers.Input(shape=(8,9,1)))\n",
    "# model.add(layers.experimental.preprocessing.Rescaling(1./255))\n",
    "model.add(tf.keras.layers.BatchNormalization())            \n",
    "\n",
    "model.add(layers.Conv2D(16, kernel_size=(2, 2), activation='relu'))\n",
    "model.add(layers.Conv2D(32, kernel_size=(2, 2), activation='relu'))\n",
    "model.add(layers.Conv2D(64, kernel_size=(2, 2), activation='relu'))\n",
    "\n",
    "model.add(layers.Flatten())\n",
    "model.add(layers.Dense(15, activation='relu'))\n",
    "model.add(layers.Dense(1, activation='linear'))\n",
    "\n",
    "model.summary()"
   ]
  },
  {
   "cell_type": "code",
   "execution_count": 651,
   "id": "9673bef7",
   "metadata": {},
   "outputs": [],
   "source": [
    "optimizer = tf.keras.optimizers.SGD(learning_rate=0.001)\n",
    "model.compile(optimizer='adam', loss='mean_squared_error')"
   ]
  },
  {
   "cell_type": "code",
   "execution_count": 652,
   "id": "2c94b943",
   "metadata": {
    "scrolled": true
   },
   "outputs": [
    {
     "name": "stdout",
     "output_type": "stream",
     "text": [
      "Epoch 1/30\n"
     ]
    },
    {
     "name": "stderr",
     "output_type": "stream",
     "text": [
      "2021-11-24 18:26:17.340953: I tensorflow/core/grappler/optimizers/custom_graph_optimizer_registry.cc:112] Plugin optimizer for device_type GPU is enabled.\n"
     ]
    },
    {
     "name": "stdout",
     "output_type": "stream",
     "text": [
      "75/75 [==============================] - ETA: 0s - loss: 5.2518e-04"
     ]
    },
    {
     "name": "stderr",
     "output_type": "stream",
     "text": [
      "2021-11-24 18:26:18.270179: I tensorflow/core/grappler/optimizers/custom_graph_optimizer_registry.cc:112] Plugin optimizer for device_type GPU is enabled.\n"
     ]
    },
    {
     "name": "stdout",
     "output_type": "stream",
     "text": [
      "75/75 [==============================] - 1s 11ms/step - loss: 5.2518e-04 - val_loss: 1.2671e-04\n",
      "Epoch 2/30\n",
      "75/75 [==============================] - 1s 8ms/step - loss: 6.0111e-05 - val_loss: 4.9483e-05\n",
      "Epoch 3/30\n",
      "75/75 [==============================] - 1s 7ms/step - loss: 4.3663e-05 - val_loss: 4.8545e-05\n",
      "Epoch 4/30\n",
      "75/75 [==============================] - 0s 6ms/step - loss: 3.9352e-05 - val_loss: 4.7371e-05\n",
      "Epoch 5/30\n",
      "75/75 [==============================] - 0s 6ms/step - loss: 3.3695e-05 - val_loss: 4.4678e-05\n",
      "Epoch 6/30\n",
      "75/75 [==============================] - 0s 7ms/step - loss: 3.0758e-05 - val_loss: 4.5850e-05\n",
      "Epoch 7/30\n",
      "75/75 [==============================] - 0s 7ms/step - loss: 2.8145e-05 - val_loss: 4.3534e-05\n",
      "Epoch 8/30\n",
      "75/75 [==============================] - 0s 6ms/step - loss: 2.6071e-05 - val_loss: 4.2892e-05\n",
      "Epoch 9/30\n",
      "75/75 [==============================] - 0s 6ms/step - loss: 2.4272e-05 - val_loss: 4.6411e-05\n",
      "Epoch 10/30\n",
      "75/75 [==============================] - 0s 6ms/step - loss: 2.2494e-05 - val_loss: 4.2963e-05\n",
      "Epoch 11/30\n",
      "75/75 [==============================] - 0s 7ms/step - loss: 2.3907e-05 - val_loss: 4.8734e-05\n",
      "Epoch 12/30\n",
      "75/75 [==============================] - 0s 7ms/step - loss: 2.2216e-05 - val_loss: 4.2302e-05\n",
      "Epoch 13/30\n",
      "75/75 [==============================] - 0s 6ms/step - loss: 1.9881e-05 - val_loss: 4.5328e-05\n",
      "Epoch 14/30\n",
      "75/75 [==============================] - 0s 7ms/step - loss: 1.8026e-05 - val_loss: 4.3394e-05\n",
      "Epoch 15/30\n",
      "75/75 [==============================] - 1s 7ms/step - loss: 1.8343e-05 - val_loss: 4.8106e-05\n",
      "Epoch 16/30\n",
      "75/75 [==============================] - 0s 6ms/step - loss: 1.7987e-05 - val_loss: 4.7205e-05\n",
      "Epoch 17/30\n",
      "75/75 [==============================] - 1s 7ms/step - loss: 1.6775e-05 - val_loss: 4.9024e-05\n",
      "Epoch 18/30\n",
      "75/75 [==============================] - 1s 7ms/step - loss: 1.4524e-05 - val_loss: 4.6480e-05\n",
      "Epoch 19/30\n",
      "75/75 [==============================] - 0s 6ms/step - loss: 1.6907e-05 - val_loss: 4.8433e-05\n",
      "Epoch 20/30\n",
      "75/75 [==============================] - 1s 7ms/step - loss: 1.7555e-05 - val_loss: 5.8156e-05\n",
      "Epoch 21/30\n",
      "75/75 [==============================] - 0s 7ms/step - loss: 1.3769e-05 - val_loss: 4.7302e-05\n",
      "Epoch 22/30\n",
      "75/75 [==============================] - 0s 7ms/step - loss: 1.2997e-05 - val_loss: 4.8533e-05\n",
      "Epoch 23/30\n",
      "75/75 [==============================] - 1s 7ms/step - loss: 1.4515e-05 - val_loss: 4.8295e-05\n",
      "Epoch 24/30\n",
      "75/75 [==============================] - 0s 6ms/step - loss: 1.3036e-05 - val_loss: 5.0951e-05\n",
      "Epoch 25/30\n",
      "75/75 [==============================] - 0s 7ms/step - loss: 1.3676e-05 - val_loss: 5.1752e-05\n",
      "Epoch 26/30\n",
      "75/75 [==============================] - 0s 7ms/step - loss: 1.0847e-05 - val_loss: 5.5712e-05\n",
      "Epoch 27/30\n",
      "75/75 [==============================] - 0s 7ms/step - loss: 1.1830e-05 - val_loss: 5.5749e-05\n",
      "Epoch 28/30\n",
      "75/75 [==============================] - 0s 7ms/step - loss: 1.2196e-05 - val_loss: 5.4306e-05\n",
      "Epoch 29/30\n",
      "75/75 [==============================] - 0s 7ms/step - loss: 1.0389e-05 - val_loss: 5.3802e-05\n",
      "Epoch 30/30\n",
      "75/75 [==============================] - 0s 7ms/step - loss: 9.5894e-06 - val_loss: 5.1331e-05\n",
      "CPU times: user 13.1 s, sys: 6.12 s, total: 19.2 s\n",
      "Wall time: 15.7 s\n"
     ]
    },
    {
     "data": {
      "text/plain": [
       "<keras.callbacks.History at 0x3f1d441f0>"
      ]
     },
     "execution_count": 652,
     "metadata": {},
     "output_type": "execute_result"
    }
   ],
   "source": [
    "%%time\n",
    "model.fit(X_train, y_train, validation_split=0.3, epochs=30, batch_size=10)"
   ]
  },
  {
   "cell_type": "code",
   "execution_count": 656,
   "id": "60d48564",
   "metadata": {},
   "outputs": [
    {
     "name": "stdout",
     "output_type": "stream",
     "text": [
      "0.7023515218827052\n"
     ]
    },
    {
     "data": {
      "image/png": "[encoded data removed]",
      "text/plain": [
       "<Figure size 504x504 with 1 Axes>"
      ]
     },
     "metadata": {
      "needs_background": "light"
     },
     "output_type": "display_data"
    }
   ],
   "source": [
    "from sklearn.metrics import r2_score\n",
    "\n",
    "\n",
    "train_preds = [v[0] for v in model.predict(X_train)]\n",
    "\n",
    "\n",
    "print(r2_score(train_preds, list(y_train)))\n",
    "\n",
    "\n",
    "score_dict = {\n",
    "    'dl' : train_preds,\n",
    "    'real' : y_train\n",
    "}\n",
    "\n",
    "pred_df = pd.DataFrame(score_dict)\n",
    "\n",
    "lims = [\n",
    "    np.min([pred_df.min().min(), pred_df.min().min()]),  # min of both axes\n",
    "    np.max([pred_df.max().max(), pred_df.max().max()]),  # max of both axes\n",
    "]\n",
    "\n",
    "# now plot both limits against eachother\n",
    "plt.figure(figsize=(7,7))\n",
    "plt.plot(lims, lims, 'k-', alpha=0.75, zorder=0)\n",
    "plt.scatter(pred_df.real, pred_df.dl, marker='o', label='lr')\n",
    "plt.xlabel('real')\n",
    "plt.ylabel('pred')\n",
    "plt.grid()\n",
    "plt.legend()\n",
    "plt.show()"
   ]
  },
  {
   "cell_type": "code",
   "execution_count": 655,
   "id": "b7c172c2",
   "metadata": {},
   "outputs": [
    {
     "name": "stdout",
     "output_type": "stream",
     "text": [
      "0.2243912704405422\n"
     ]
    },
    {
     "data": {
      "image/png": "[encoded data removed]",
      "text/plain": [
       "<Figure size 504x504 with 1 Axes>"
      ]
     },
     "metadata": {
      "needs_background": "light"
     },
     "output_type": "display_data"
    }
   ],
   "source": [
    "from sklearn.metrics import r2_score\n",
    "\n",
    "\n",
    "preds = [v[0] for v in model.predict(X_test)]\n",
    "\n",
    "\n",
    "print(r2_score(preds, list(y_test)))\n",
    "\n",
    "\n",
    "score_dict = {\n",
    "    'dl' : preds,\n",
    "    'real' : y_test\n",
    "}\n",
    "\n",
    "pred_df = pd.DataFrame(score_dict)\n",
    "\n",
    "lims = [\n",
    "    np.min([pred_df.min().min(), pred_df.min().min()]),  # min of both axes\n",
    "    np.max([pred_df.max().max(), pred_df.max().max()]),  # max of both axes\n",
    "]\n",
    "\n",
    "# now plot both limits against eachother\n",
    "plt.figure(figsize=(7,7))\n",
    "plt.plot(lims, lims, 'k-', alpha=0.75, zorder=0)\n",
    "plt.scatter(pred_df.real, pred_df.dl, marker='o', label='lr')\n",
    "plt.xlabel('real')\n",
    "plt.ylabel('pred')\n",
    "plt.grid()\n",
    "plt.legend()\n",
    "plt.show()"
   ]
  },
  {
   "cell_type": "code",
   "execution_count": null,
   "id": "01f7b400",
   "metadata": {},
   "outputs": [],
   "source": []
  }
 ],
 "metadata": {
  "kernelspec": {
   "display_name": "Python 3 (ipykernel)",
   "language": "python",
   "name": "python3"
  },
  "language_info": {
   "codemirror_mode": {
    "name": "ipython",
    "version": 3
   },
   "file_extension": ".py",
   "mimetype": "text/x-python",
   "name": "python",
   "nbconvert_exporter": "python",
   "pygments_lexer": "ipython3",
   "version": "3.8.12"
  }
 },
 "nbformat": 4,
 "nbformat_minor": 5
}
