{
 "cells": [
  {
   "cell_type": "markdown",
   "id": "7d52ddf3",
   "metadata": {},
   "source": [
    "# 캔들차트를 CNN 분석"
   ]
  },
  {
   "cell_type": "code",
   "execution_count": 1,
   "id": "b1812981",
   "metadata": {},
   "outputs": [],
   "source": [
    "import pandas as pd\n",
    "import numpy as np\n",
    "import matplotlib.pyplot as plt\n",
    "import seaborn as sns\n",
    "from PIL import Image\n",
    "\n",
    "from tensorflow.keras import layers\n",
    "from tensorflow.keras import models\n",
    "import tensorflow as tf\n",
    "\n",
    "\n",
    "from sklearn.model_selection import train_test_split\n",
    "from sklearn.preprocessing import StandardScaler, MinMaxScaler, RobustScaler\n",
    "from sklearn.metrics import r2_score"
   ]
  },
  {
   "cell_type": "code",
   "execution_count": null,
   "id": "af52792a",
   "metadata": {},
   "outputs": [],
   "source": []
  },
  {
   "cell_type": "markdown",
   "id": "2c5a0d33",
   "metadata": {},
   "source": [
    "## 캔들차트 이미지 가져오기"
   ]
  },
  {
   "cell_type": "code",
   "execution_count": 2,
   "id": "87db0eff",
   "metadata": {},
   "outputs": [
    {
     "name": "stdout",
     "output_type": "stream",
     "text": [
      "CPU times: user 2.71 s, sys: 31.9 ms, total: 2.74 s\n",
      "Wall time: 2.74 s\n"
     ]
    }
   ],
   "source": [
    "%%time\n",
    "X = []\n",
    "for i in range(1188) : \n",
    "    img = Image.open(f'/Users/jcwee/Library/Mobile Documents/com~apple~CloudDocs/src/bitcamp_fintech/project/6. team project4/pic_data/{i}.png')\n",
    "    img = img.resize((150,150))\n",
    "    img_array = np.array(img)\n",
    "    X.append(img_array)"
   ]
  },
  {
   "cell_type": "code",
   "execution_count": 3,
   "id": "966b1756",
   "metadata": {},
   "outputs": [],
   "source": [
    "X = np.array(X)"
   ]
  },
  {
   "cell_type": "code",
   "execution_count": 4,
   "id": "9f200850",
   "metadata": {},
   "outputs": [
    {
     "data": {
      "text/plain": [
       "(1188, 150, 150, 4)"
      ]
     },
     "execution_count": 4,
     "metadata": {},
     "output_type": "execute_result"
    }
   ],
   "source": [
    "X.shape"
   ]
  },
  {
   "cell_type": "code",
   "execution_count": 5,
   "id": "e77cb99f",
   "metadata": {},
   "outputs": [
    {
     "data": {
      "text/plain": [
       "<matplotlib.image.AxesImage at 0x291efd8b0>"
      ]
     },
     "execution_count": 5,
     "metadata": {},
     "output_type": "execute_result"
    },
    {
     "data": {
      "image/png": "[encoded data removed]",
      "text/plain": [
       "<Figure size 432x288 with 1 Axes>"
      ]
     },
     "metadata": {
      "needs_background": "light"
     },
     "output_type": "display_data"
    }
   ],
   "source": [
    "plt.imshow(X[5])"
   ]
  },
  {
   "cell_type": "code",
   "execution_count": 6,
   "id": "b7f57d52",
   "metadata": {},
   "outputs": [],
   "source": [
    "df = pd.read_csv('/Users/jcwee/Library/Mobile Documents/com~apple~CloudDocs/src/bitcamp_fintech/project/6. team project4/kospi_upw.csv')\n",
    "y = df['0'].values\n",
    "y = y.reshape(-1,1)"
   ]
  },
  {
   "cell_type": "code",
   "execution_count": 9,
   "id": "1c77b0b3",
   "metadata": {},
   "outputs": [],
   "source": [
    "X_train, X_test, y_train, y_test = train_test_split(X, y, test_size=0.2)"
   ]
  },
  {
   "cell_type": "code",
   "execution_count": 10,
   "id": "838f21eb",
   "metadata": {},
   "outputs": [
    {
     "data": {
      "text/plain": [
       "((950, 150, 150, 4), (950, 1))"
      ]
     },
     "execution_count": 10,
     "metadata": {},
     "output_type": "execute_result"
    }
   ],
   "source": [
    "X_train.shape, y_train.shape"
   ]
  },
  {
   "cell_type": "code",
   "execution_count": 12,
   "id": "0ecc6e91",
   "metadata": {},
   "outputs": [
    {
     "data": {
      "text/plain": [
       "((238, 150, 150, 4), (238, 1))"
      ]
     },
     "execution_count": 12,
     "metadata": {},
     "output_type": "execute_result"
    }
   ],
   "source": [
    "X_test.shape, y_test.shape"
   ]
  },
  {
   "cell_type": "code",
   "execution_count": null,
   "id": "6d05d6a3",
   "metadata": {},
   "outputs": [],
   "source": []
  },
  {
   "cell_type": "markdown",
   "id": "88aced52",
   "metadata": {},
   "source": [
    "## DeepLearning 적용(CNN)"
   ]
  },
  {
   "cell_type": "code",
   "execution_count": 13,
   "id": "3e7d89b3",
   "metadata": {
    "scrolled": false
   },
   "outputs": [
    {
     "name": "stdout",
     "output_type": "stream",
     "text": [
      "Metal device set to: Apple M1\n",
      "Model: \"sequential\"\n",
      "_________________________________________________________________\n",
      "Layer (type)                 Output Shape              Param #   \n",
      "=================================================================\n",
      "rescaling (Rescaling)        (None, 150, 150, 4)       0         \n",
      "_________________________________________________________________\n",
      "batch_normalization (BatchNo (None, 150, 150, 4)       16        \n",
      "_________________________________________________________________\n",
      "conv2d (Conv2D)              (None, 149, 149, 16)      272       \n",
      "_________________________________________________________________\n",
      "conv2d_1 (Conv2D)            (None, 148, 148, 32)      2080      \n",
      "_________________________________________________________________\n",
      "conv2d_2 (Conv2D)            (None, 146, 146, 64)      18496     \n",
      "_________________________________________________________________\n",
      "flatten (Flatten)            (None, 1364224)           0         \n",
      "_________________________________________________________________\n",
      "dense (Dense)                (None, 64)                87310400  \n",
      "_________________________________________________________________\n",
      "dense_1 (Dense)              (None, 1)                 65        \n",
      "=================================================================\n",
      "Total params: 87,331,329\n",
      "Trainable params: 87,331,321\n",
      "Non-trainable params: 8\n",
      "_________________________________________________________________\n"
     ]
    },
    {
     "name": "stderr",
     "output_type": "stream",
     "text": [
      "2021-11-25 11:09:01.797034: I tensorflow/core/common_runtime/pluggable_device/pluggable_device_factory.cc:305] Could not identify NUMA node of platform GPU ID 0, defaulting to 0. Your kernel may not have been built with NUMA support.\n",
      "2021-11-25 11:09:01.797294: I tensorflow/core/common_runtime/pluggable_device/pluggable_device_factory.cc:271] Created TensorFlow device (/job:localhost/replica:0/task:0/device:GPU:0 with 0 MB memory) -> physical PluggableDevice (device: 0, name: METAL, pci bus id: <undefined>)\n"
     ]
    }
   ],
   "source": [
    "leaky_relu = tf.nn.leaky_relu\n",
    "# leaky_relu = 'relu'\n",
    "\n",
    "model = models.Sequential()\n",
    "\n",
    "model.add(layers.Input(shape=(150,150,4)))\n",
    "model.add(layers.experimental.preprocessing.Rescaling(1./255))\n",
    "model.add(tf.keras.layers.BatchNormalization())            \n",
    "\n",
    "model.add(layers.Conv2D(16, kernel_size=(2, 2), activation='relu'))\n",
    "model.add(layers.Conv2D(32, kernel_size=(2, 2), activation='relu'))\n",
    "model.add(layers.Conv2D(64, kernel_size=(3, 3), activation='relu'))\n",
    "\n",
    "model.add(layers.Flatten())\n",
    "model.add(layers.Dense(64, activation=leaky_relu))\n",
    "\n",
    "model.add(layers.Dense(1, activation='linear'))\n",
    "\n",
    "model.summary()"
   ]
  },
  {
   "cell_type": "code",
   "execution_count": 14,
   "id": "a0ab020a",
   "metadata": {},
   "outputs": [],
   "source": [
    "model.compile(optimizer='adam', loss='mean_squared_error')"
   ]
  },
  {
   "cell_type": "code",
   "execution_count": 15,
   "id": "a7a867fe",
   "metadata": {
    "scrolled": true
   },
   "outputs": [
    {
     "name": "stderr",
     "output_type": "stream",
     "text": [
      "2021-11-25 11:09:03.790878: I tensorflow/compiler/mlir/mlir_graph_optimization_pass.cc:185] None of the MLIR Optimization Passes are enabled (registered 2)\n",
      "2021-11-25 11:09:03.791186: W tensorflow/core/platform/profile_utils/cpu_utils.cc:128] Failed to get CPU frequency: 0 Hz\n",
      "2021-11-25 11:09:03.923403: I tensorflow/core/grappler/optimizers/custom_graph_optimizer_registry.cc:112] Plugin optimizer for device_type GPU is enabled.\n"
     ]
    },
    {
     "name": "stdout",
     "output_type": "stream",
     "text": [
      "Epoch 1/50\n",
      "285/285 [==============================] - ETA: 0s - loss: 1488.5663"
     ]
    },
    {
     "name": "stderr",
     "output_type": "stream",
     "text": [
      "2021-11-25 11:09:33.347740: I tensorflow/core/grappler/optimizers/custom_graph_optimizer_registry.cc:112] Plugin optimizer for device_type GPU is enabled.\n"
     ]
    },
    {
     "name": "stdout",
     "output_type": "stream",
     "text": [
      "285/285 [==============================] - 32s 110ms/step - loss: 1488.5663 - val_loss: 0.0169\n",
      "Epoch 2/50\n",
      "285/285 [==============================] - 31s 110ms/step - loss: 0.0830 - val_loss: 0.0329\n",
      "Epoch 3/50\n",
      "285/285 [==============================] - 31s 110ms/step - loss: 0.0212 - val_loss: 0.0417\n",
      "Epoch 4/50\n",
      "285/285 [==============================] - 31s 110ms/step - loss: 0.0095 - val_loss: 0.0108\n",
      "Epoch 5/50\n",
      "285/285 [==============================] - 32s 111ms/step - loss: 0.0069 - val_loss: 0.0029\n",
      "Epoch 6/50\n",
      "285/285 [==============================] - 31s 110ms/step - loss: 0.0047 - val_loss: 0.0041\n",
      "Epoch 7/50\n",
      "285/285 [==============================] - 32s 111ms/step - loss: 0.0035 - val_loss: 0.0033\n",
      "Epoch 8/50\n",
      "285/285 [==============================] - 31s 110ms/step - loss: 0.0044 - val_loss: 0.0057\n",
      "Epoch 9/50\n",
      "285/285 [==============================] - 31s 110ms/step - loss: 0.0028 - val_loss: 0.0030\n",
      "Epoch 10/50\n",
      "285/285 [==============================] - 32s 111ms/step - loss: 0.0046 - val_loss: 0.0066\n",
      "Epoch 11/50\n",
      "285/285 [==============================] - 32s 111ms/step - loss: 0.0160 - val_loss: 0.0143\n",
      "Epoch 12/50\n",
      "285/285 [==============================] - 32s 111ms/step - loss: 0.0131 - val_loss: 0.0091\n",
      "Epoch 13/50\n",
      "285/285 [==============================] - 31s 110ms/step - loss: 0.0041 - val_loss: 0.0012\n",
      "Epoch 14/50\n",
      "285/285 [==============================] - 31s 110ms/step - loss: 7.4795e-04 - val_loss: 0.0011\n",
      "Epoch 15/50\n",
      "285/285 [==============================] - 31s 110ms/step - loss: 4.9947e-04 - val_loss: 7.7861e-04\n",
      "Epoch 16/50\n",
      "285/285 [==============================] - 31s 111ms/step - loss: 4.2083e-04 - val_loss: 0.0012\n",
      "Epoch 17/50\n",
      "285/285 [==============================] - 31s 110ms/step - loss: 5.1831e-04 - val_loss: 0.0011\n",
      "Epoch 18/50\n",
      "285/285 [==============================] - 32s 111ms/step - loss: 4.1108e-04 - val_loss: 9.0761e-04\n",
      "Epoch 19/50\n",
      "285/285 [==============================] - 31s 110ms/step - loss: 4.8428e-04 - val_loss: 9.3981e-04\n",
      "Epoch 20/50\n",
      "285/285 [==============================] - 31s 110ms/step - loss: 7.5792e-04 - val_loss: 9.1926e-04\n",
      "Epoch 21/50\n",
      "285/285 [==============================] - 31s 110ms/step - loss: 0.0011 - val_loss: 9.8381e-04\n",
      "Epoch 22/50\n",
      "285/285 [==============================] - 31s 110ms/step - loss: 8.5116e-04 - val_loss: 6.4157e-04\n",
      "Epoch 23/50\n",
      "285/285 [==============================] - 32s 111ms/step - loss: 4.2155e-04 - val_loss: 3.4825e-04\n",
      "Epoch 24/50\n",
      "285/285 [==============================] - 33s 117ms/step - loss: 1.8377e-04 - val_loss: 5.1195e-04\n",
      "Epoch 25/50\n",
      "285/285 [==============================] - 31s 110ms/step - loss: 1.5558e-04 - val_loss: 3.9530e-04\n",
      "Epoch 26/50\n",
      "285/285 [==============================] - 31s 111ms/step - loss: 1.3489e-04 - val_loss: 2.4445e-04\n",
      "Epoch 27/50\n",
      "285/285 [==============================] - 32s 111ms/step - loss: 1.3538e-04 - val_loss: 2.7234e-04\n",
      "Epoch 28/50\n",
      "285/285 [==============================] - 31s 110ms/step - loss: 1.8187e-04 - val_loss: 2.6660e-04\n",
      "Epoch 29/50\n",
      "285/285 [==============================] - 31s 110ms/step - loss: 1.1597e-04 - val_loss: 2.5804e-04\n",
      "Epoch 30/50\n",
      "285/285 [==============================] - 31s 110ms/step - loss: 1.4511e-04 - val_loss: 2.6127e-04\n",
      "Epoch 31/50\n",
      "285/285 [==============================] - 31s 110ms/step - loss: 1.6835e-04 - val_loss: 2.4672e-04\n",
      "Epoch 32/50\n",
      "285/285 [==============================] - 31s 110ms/step - loss: 1.2971e-04 - val_loss: 2.7050e-04\n",
      "Epoch 33/50\n",
      "285/285 [==============================] - 31s 110ms/step - loss: 1.8147e-04 - val_loss: 2.3129e-04\n",
      "Epoch 34/50\n",
      "285/285 [==============================] - 31s 110ms/step - loss: 1.4284e-04 - val_loss: 2.2503e-04\n",
      "Epoch 35/50\n",
      "285/285 [==============================] - 31s 110ms/step - loss: 1.2142e-04 - val_loss: 1.7621e-04\n",
      "Epoch 36/50\n",
      "285/285 [==============================] - 31s 110ms/step - loss: 1.2402e-04 - val_loss: 1.7362e-04\n",
      "Epoch 37/50\n",
      "285/285 [==============================] - 31s 110ms/step - loss: 1.0336e-04 - val_loss: 1.7853e-04\n",
      "Epoch 38/50\n",
      "285/285 [==============================] - 31s 110ms/step - loss: 8.2467e-05 - val_loss: 2.3513e-04\n",
      "Epoch 39/50\n",
      "285/285 [==============================] - 31s 110ms/step - loss: 8.3811e-05 - val_loss: 1.7552e-04\n",
      "Epoch 40/50\n",
      "285/285 [==============================] - 32s 111ms/step - loss: 7.8111e-05 - val_loss: 2.0142e-04\n",
      "Epoch 41/50\n",
      "285/285 [==============================] - 32s 111ms/step - loss: 6.4148e-05 - val_loss: 2.0174e-04\n",
      "Epoch 42/50\n",
      "285/285 [==============================] - 32s 112ms/step - loss: 6.4781e-05 - val_loss: 2.1630e-04\n",
      "Epoch 43/50\n",
      "285/285 [==============================] - 32s 111ms/step - loss: 6.9401e-05 - val_loss: 1.8641e-04\n",
      "Epoch 44/50\n",
      "285/285 [==============================] - 32s 111ms/step - loss: 5.9177e-05 - val_loss: 1.7863e-04\n",
      "Epoch 45/50\n",
      "285/285 [==============================] - 31s 111ms/step - loss: 6.4407e-05 - val_loss: 1.6671e-04\n",
      "Epoch 46/50\n",
      "285/285 [==============================] - 32s 111ms/step - loss: 8.5694e-05 - val_loss: 1.5830e-04\n",
      "Epoch 47/50\n",
      "285/285 [==============================] - 32s 111ms/step - loss: 7.5958e-05 - val_loss: 1.5783e-04\n",
      "Epoch 48/50\n",
      "285/285 [==============================] - 32s 112ms/step - loss: 7.9682e-05 - val_loss: 1.6375e-04\n",
      "Epoch 49/50\n",
      "285/285 [==============================] - 32s 111ms/step - loss: 6.6751e-05 - val_loss: 1.6223e-04\n",
      "Epoch 50/50\n",
      "285/285 [==============================] - 32s 111ms/step - loss: 6.1243e-05 - val_loss: 1.7948e-04\n",
      "CPU times: user 5min 4s, sys: 2min 15s, total: 7min 20s\n",
      "Wall time: 26min 16s\n"
     ]
    },
    {
     "data": {
      "text/plain": [
       "<keras.callbacks.History at 0x2b255e5e0>"
      ]
     },
     "execution_count": 15,
     "metadata": {},
     "output_type": "execute_result"
    }
   ],
   "source": [
    "%%time\n",
    "model.fit(X_train, y_train, validation_split=0.4, epochs=50, batch_size=2, verbose=1)"
   ]
  },
  {
   "cell_type": "code",
   "execution_count": 16,
   "id": "af18b015",
   "metadata": {},
   "outputs": [
    {
     "name": "stderr",
     "output_type": "stream",
     "text": [
      "2021-11-25 11:35:43.902976: W tensorflow/python/util/util.cc:348] Sets are not currently considered sequences, but this may change in the future, so consider avoiding using them.\n"
     ]
    },
    {
     "name": "stdout",
     "output_type": "stream",
     "text": [
      "INFO:tensorflow:Assets written to: ./16326464/assets\n"
     ]
    }
   ],
   "source": [
    "model.save('./16326464')"
   ]
  },
  {
   "cell_type": "code",
   "execution_count": null,
   "id": "899a76cb",
   "metadata": {},
   "outputs": [],
   "source": []
  },
  {
   "cell_type": "markdown",
   "id": "4e83f54a",
   "metadata": {},
   "source": [
    "## 결과 확인"
   ]
  },
  {
   "cell_type": "code",
   "execution_count": 17,
   "id": "c7277f47",
   "metadata": {},
   "outputs": [
    {
     "name": "stderr",
     "output_type": "stream",
     "text": [
      "2021-11-25 11:35:49.346688: I tensorflow/core/grappler/optimizers/custom_graph_optimizer_registry.cc:112] Plugin optimizer for device_type GPU is enabled.\n"
     ]
    },
    {
     "name": "stdout",
     "output_type": "stream",
     "text": [
      "CPU times: user 428 ms, sys: 1.56 s, total: 1.99 s\n",
      "Wall time: 12.4 s\n"
     ]
    }
   ],
   "source": [
    "%%time\n",
    "\n",
    "preds = model.predict(X_test)"
   ]
  },
  {
   "cell_type": "code",
   "execution_count": 18,
   "id": "a6889653",
   "metadata": {},
   "outputs": [
    {
     "data": {
      "text/plain": [
       "array([[-7.56625179e-03],\n",
       "       [-4.59459331e-03],\n",
       "       [ 2.66720844e-03],\n",
       "       [-1.10540236e-03],\n",
       "       [ 8.69459193e-03],\n",
       "       [ 9.82838916e-04],\n",
       "       [-7.66671030e-04],\n",
       "       [ 1.21085276e-03],\n",
       "       [ 1.21153323e-02],\n",
       "       [ 5.35240117e-03],\n",
       "       [-2.59371730e-03],\n",
       "       [ 5.70139941e-03],\n",
       "       [ 2.66425777e-05],\n",
       "       [-5.26934210e-03],\n",
       "       [-6.43282663e-03],\n",
       "       [-3.53654730e-03],\n",
       "       [ 1.08786975e-03],\n",
       "       [ 1.41130690e-03],\n",
       "       [-1.46483700e-03],\n",
       "       [-1.77639793e-03],\n",
       "       [ 2.15640962e-02],\n",
       "       [-1.96338515e-03],\n",
       "       [ 1.06828962e-03],\n",
       "       [ 1.99035858e-03],\n",
       "       [ 4.76428028e-03],\n",
       "       [ 1.12054562e-02],\n",
       "       [ 5.22174407e-03],\n",
       "       [ 7.52968248e-03],\n",
       "       [ 1.66636705e-02],\n",
       "       [-2.86598457e-04],\n",
       "       [ 5.00677060e-03],\n",
       "       [ 1.11903180e-03],\n",
       "       [-3.28127551e-03],\n",
       "       [ 2.92618992e-04],\n",
       "       [-1.87722389e-02],\n",
       "       [ 8.93550646e-03],\n",
       "       [ 1.22187054e-02],\n",
       "       [ 5.60226943e-03],\n",
       "       [-5.71156014e-03],\n",
       "       [-1.46762757e-02],\n",
       "       [-1.51934545e-03],\n",
       "       [-1.01414258e-02],\n",
       "       [ 6.76008221e-03],\n",
       "       [ 1.93211180e-03],\n",
       "       [-8.62697046e-03],\n",
       "       [-1.32400384e-02],\n",
       "       [ 3.05833598e-03],\n",
       "       [ 7.65362289e-03],\n",
       "       [ 1.14056012e-02],\n",
       "       [ 1.08049652e-02],\n",
       "       [ 1.55907799e-03],\n",
       "       [ 6.33498933e-03],\n",
       "       [-9.70066246e-03],\n",
       "       [ 2.64552236e-02],\n",
       "       [ 1.88598153e-03],\n",
       "       [ 3.82450526e-03],\n",
       "       [ 7.72161689e-03],\n",
       "       [ 1.41174486e-02],\n",
       "       [-2.58311699e-03],\n",
       "       [ 2.15802528e-02],\n",
       "       [-9.53742070e-04],\n",
       "       [ 3.32897459e-03],\n",
       "       [-1.17199300e-02],\n",
       "       [ 2.56048143e-02],\n",
       "       [ 2.08679326e-02],\n",
       "       [ 2.71324744e-03],\n",
       "       [ 5.55383693e-03],\n",
       "       [ 9.75993183e-03],\n",
       "       [-4.19568550e-03],\n",
       "       [ 4.65066265e-03],\n",
       "       [ 4.01330832e-03],\n",
       "       [-1.33916689e-02],\n",
       "       [ 6.32349309e-03],\n",
       "       [ 7.47085782e-04],\n",
       "       [ 3.06257908e-03],\n",
       "       [ 3.10681504e-03],\n",
       "       [ 3.24933347e-03],\n",
       "       [ 3.74784251e-03],\n",
       "       [-5.53814787e-03],\n",
       "       [-1.25238369e-03],\n",
       "       [-6.72751199e-03],\n",
       "       [-6.03594584e-04],\n",
       "       [-1.77006004e-04],\n",
       "       [ 3.30665451e-03],\n",
       "       [ 1.46531803e-03],\n",
       "       [ 4.57528513e-03],\n",
       "       [ 4.77069896e-03],\n",
       "       [ 9.72672086e-03],\n",
       "       [ 2.33297125e-02],\n",
       "       [ 4.17239126e-03],\n",
       "       [-4.40990459e-03],\n",
       "       [-1.02235535e-02],\n",
       "       [ 3.40515678e-03],\n",
       "       [-1.33863906e-03],\n",
       "       [ 1.97197311e-02],\n",
       "       [-8.79942207e-04],\n",
       "       [ 7.89816212e-03],\n",
       "       [ 6.16620015e-03],\n",
       "       [ 6.74366485e-03],\n",
       "       [ 3.76052456e-04],\n",
       "       [-1.78380380e-03],\n",
       "       [ 1.54557405e-02],\n",
       "       [ 9.42731556e-03],\n",
       "       [-3.93146370e-03],\n",
       "       [ 3.66746681e-04],\n",
       "       [ 1.03644421e-02],\n",
       "       [-4.46517672e-03],\n",
       "       [-4.49801562e-04],\n",
       "       [ 3.94748431e-03],\n",
       "       [ 3.27415694e-03],\n",
       "       [ 1.20160286e-03],\n",
       "       [ 4.90420591e-03],\n",
       "       [-5.70735242e-03],\n",
       "       [-5.10502886e-03],\n",
       "       [ 1.93380378e-02],\n",
       "       [-6.53434265e-03],\n",
       "       [-1.07295485e-02],\n",
       "       [-2.96346727e-03],\n",
       "       [ 1.72999431e-03],\n",
       "       [ 2.77067767e-04],\n",
       "       [-7.27526937e-03],\n",
       "       [ 3.53988563e-03],\n",
       "       [ 1.99313392e-03],\n",
       "       [-2.93291616e-03],\n",
       "       [-1.22663332e-04],\n",
       "       [-3.60372942e-05],\n",
       "       [ 5.44882100e-03],\n",
       "       [ 2.32094643e-03],\n",
       "       [-2.73727509e-03],\n",
       "       [-5.42293070e-04],\n",
       "       [ 2.11898168e-03],\n",
       "       [ 3.53785977e-02],\n",
       "       [ 3.76384556e-02],\n",
       "       [-1.15767936e-03],\n",
       "       [-4.36236430e-03],\n",
       "       [ 5.88364201e-04],\n",
       "       [ 6.27002912e-04],\n",
       "       [ 4.98936977e-03],\n",
       "       [-8.14528298e-03],\n",
       "       [-1.92494388e-03],\n",
       "       [ 3.79105587e-03],\n",
       "       [ 4.93067782e-03],\n",
       "       [ 1.18547236e-03],\n",
       "       [ 1.51756061e-02],\n",
       "       [-2.81384285e-03],\n",
       "       [ 5.26221748e-03],\n",
       "       [-7.91405607e-03],\n",
       "       [ 1.19830784e-03],\n",
       "       [-9.28908121e-05],\n",
       "       [ 1.96510111e-03],\n",
       "       [-5.74714271e-04],\n",
       "       [ 5.11565339e-03],\n",
       "       [-2.20801379e-03],\n",
       "       [ 2.45455210e-03],\n",
       "       [ 3.03244148e-03],\n",
       "       [ 5.04904892e-03],\n",
       "       [-2.41600792e-03],\n",
       "       [ 1.37222488e-03],\n",
       "       [-2.30346317e-03],\n",
       "       [ 4.99458145e-03],\n",
       "       [ 1.50071201e-03],\n",
       "       [-5.03017474e-03],\n",
       "       [ 1.05748465e-02],\n",
       "       [ 8.18165671e-03],\n",
       "       [ 1.07272645e-03],\n",
       "       [ 2.57011061e-03],\n",
       "       [ 1.09225092e-02],\n",
       "       [ 7.45739089e-04],\n",
       "       [-2.72141467e-03],\n",
       "       [ 2.65621813e-04],\n",
       "       [-1.49132940e-03],\n",
       "       [-2.99946289e-03],\n",
       "       [-4.53292672e-03],\n",
       "       [ 3.00364313e-03],\n",
       "       [-9.06444620e-05],\n",
       "       [-2.38117273e-03],\n",
       "       [-5.70065249e-03],\n",
       "       [ 1.48319332e-02],\n",
       "       [ 1.23518077e-03],\n",
       "       [ 9.67546087e-03],\n",
       "       [ 2.12492351e-03],\n",
       "       [-4.43377299e-04],\n",
       "       [ 3.52104427e-04],\n",
       "       [ 4.61641978e-03],\n",
       "       [ 9.00122570e-04],\n",
       "       [ 7.90588837e-03],\n",
       "       [ 3.23169236e-03],\n",
       "       [ 3.05501861e-03],\n",
       "       [ 2.50470196e-03],\n",
       "       [ 1.40385004e-04],\n",
       "       [-2.24732864e-03],\n",
       "       [-2.12817639e-02],\n",
       "       [ 3.42164119e-03],\n",
       "       [ 9.52246832e-04],\n",
       "       [ 9.37392469e-03],\n",
       "       [-6.72059413e-03],\n",
       "       [-3.25173838e-04],\n",
       "       [ 9.24082752e-03],\n",
       "       [-7.15119112e-03],\n",
       "       [ 5.78709971e-03],\n",
       "       [-1.55331986e-02],\n",
       "       [ 1.28008639e-02],\n",
       "       [-4.30350099e-03],\n",
       "       [ 4.60527744e-03],\n",
       "       [-7.44062383e-03],\n",
       "       [-3.60652339e-05],\n",
       "       [-4.00612410e-03],\n",
       "       [-6.03566971e-03],\n",
       "       [ 7.93349650e-03],\n",
       "       [ 6.50204625e-03],\n",
       "       [ 3.95674538e-03],\n",
       "       [ 7.12790992e-03],\n",
       "       [ 4.36080899e-03],\n",
       "       [ 1.65201281e-03],\n",
       "       [-7.34984595e-03],\n",
       "       [ 8.32195627e-04],\n",
       "       [-2.11860309e-03],\n",
       "       [-3.20398696e-02],\n",
       "       [-6.49183337e-03],\n",
       "       [ 1.17236106e-02],\n",
       "       [ 8.96803197e-03],\n",
       "       [ 8.81637679e-04],\n",
       "       [ 3.23479297e-04],\n",
       "       [ 2.98509677e-03],\n",
       "       [ 2.20620306e-04],\n",
       "       [-3.00849671e-03],\n",
       "       [-1.19881248e-02],\n",
       "       [ 1.82995130e-03],\n",
       "       [ 2.83990731e-03],\n",
       "       [ 2.89666210e-03],\n",
       "       [ 1.02324924e-02],\n",
       "       [ 7.46467244e-03],\n",
       "       [ 3.32214613e-03],\n",
       "       [-3.87507002e-03],\n",
       "       [ 5.09827631e-04],\n",
       "       [ 1.03578968e-02],\n",
       "       [ 1.52510507e-02],\n",
       "       [-6.73618866e-04]], dtype=float32)"
      ]
     },
     "execution_count": 18,
     "metadata": {},
     "output_type": "execute_result"
    }
   ],
   "source": [
    "preds"
   ]
  },
  {
   "cell_type": "code",
   "execution_count": 19,
   "id": "b177020f",
   "metadata": {},
   "outputs": [
    {
     "data": {
      "text/plain": [
       "-1.5511121041638725"
      ]
     },
     "execution_count": 19,
     "metadata": {},
     "output_type": "execute_result"
    }
   ],
   "source": [
    "r2_score(preds.reshape(-1,1), y_test.reshape(-1,1))"
   ]
  },
  {
   "cell_type": "code",
   "execution_count": 20,
   "id": "e549b550",
   "metadata": {},
   "outputs": [],
   "source": [
    "score_dict = {\n",
    "    'preds' : list(preds.reshape(-1)),\n",
    "    'real' : list(y_test.reshape(-1))\n",
    "}"
   ]
  },
  {
   "cell_type": "code",
   "execution_count": 21,
   "id": "0a04c4a2",
   "metadata": {},
   "outputs": [
    {
     "data": {
      "image/png": "[encoded data removed]",
      "text/plain": [
       "<Figure size 720x720 with 1 Axes>"
      ]
     },
     "metadata": {
      "needs_background": "light"
     },
     "output_type": "display_data"
    }
   ],
   "source": [
    "pred_df = pd.DataFrame(score_dict)\n",
    "lims = [\n",
    "#     np.min([-0.5, -0.5]),\n",
    "#     np.max([0.5, 0.5])\n",
    "    np.min([pred_df.min().min(), pred_df.min().min()]),  # min of both axes\n",
    "    np.max([pred_df.max().max(), pred_df.max().max()]),  # max of both axes\n",
    "]\n",
    "\n",
    "# now plot both limits against eachother\n",
    "plt.figure(figsize=(10,10))\n",
    "plt.plot(lims, lims, 'k-', alpha=0.75, zorder=0)\n",
    "plt.scatter(pred_df.real, pred_df.preds, marker='o', label='preds')\n",
    "plt.xlabel('real')\n",
    "plt.ylabel('pred')\n",
    "plt.grid()\n",
    "plt.legend()\n",
    "plt.show()"
   ]
  },
  {
   "cell_type": "code",
   "execution_count": 22,
   "id": "d86d8d4a",
   "metadata": {},
   "outputs": [],
   "source": [
    "preds = model.predict(X_train)\n",
    "score_dict = {\n",
    "    'preds' : list(preds.reshape(-1)),\n",
    "    'real' : list(y_train.reshape(-1))\n",
    "}"
   ]
  },
  {
   "cell_type": "code",
   "execution_count": 23,
   "id": "ee83e493",
   "metadata": {},
   "outputs": [
    {
     "data": {
      "image/png": "[encoded data removed]",
      "text/plain": [
       "<Figure size 720x720 with 1 Axes>"
      ]
     },
     "metadata": {
      "needs_background": "light"
     },
     "output_type": "display_data"
    }
   ],
   "source": [
    "pred_df = pd.DataFrame(score_dict)\n",
    "lims = [\n",
    "#     np.min([-0.5, -0.5]),\n",
    "#     np.max([0.5, 0.5])\n",
    "    np.min([pred_df.min().min(), pred_df.min().min()]),  # min of both axes\n",
    "    np.max([pred_df.max().max(), pred_df.max().max()]),  # max of both axes\n",
    "]\n",
    "\n",
    "# now plot both limits against eachother\n",
    "plt.figure(figsize=(10,10))\n",
    "plt.plot(lims, lims, 'k-', alpha=0.75, zorder=0)\n",
    "plt.scatter(pred_df.real, pred_df.preds, marker='o', label='preds')\n",
    "plt.xlabel('real')\n",
    "plt.ylabel('pred')\n",
    "plt.grid()\n",
    "plt.legend()\n",
    "plt.show()"
   ]
  },
  {
   "cell_type": "code",
   "execution_count": null,
   "id": "d11ee10c",
   "metadata": {},
   "outputs": [],
   "source": []
  },
  {
   "cell_type": "code",
   "execution_count": null,
   "id": "5ab5ac6f",
   "metadata": {},
   "outputs": [],
   "source": []
  },
  {
   "cell_type": "code",
   "execution_count": null,
   "id": "2e4dba28",
   "metadata": {},
   "outputs": [],
   "source": []
  }
 ],
 "metadata": {
  "kernelspec": {
   "display_name": "Python 3 (ipykernel)",
   "language": "python",
   "name": "python3"
  },
  "language_info": {
   "codemirror_mode": {
    "name": "ipython",
    "version": 3
   },
   "file_extension": ".py",
   "mimetype": "text/x-python",
   "name": "python",
   "nbconvert_exporter": "python",
   "pygments_lexer": "ipython3",
   "version": "3.8.12"
  }
 },
 "nbformat": 4,
 "nbformat_minor": 5
}
