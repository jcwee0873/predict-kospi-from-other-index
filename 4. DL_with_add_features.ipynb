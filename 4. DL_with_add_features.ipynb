{
 "cells": [
  {
   "cell_type": "markdown",
   "id": "d4f3a6f9",
   "metadata": {},
   "source": [
    "# 직접 Feature 추가 후 DNN 적용"
   ]
  },
  {
   "cell_type": "code",
   "execution_count": 1,
   "id": "3c753986",
   "metadata": {},
   "outputs": [],
   "source": [
    "import pandas as pd\n",
    "import numpy as np\n",
    "import matplotlib.pyplot as plt\n",
    "import seaborn as sns\n",
    "\n",
    "import FinanceDataReader as fdr\n",
    "\n",
    "import os"
   ]
  },
  {
   "cell_type": "markdown",
   "id": "ab26835a",
   "metadata": {},
   "source": [
    "## Data Read"
   ]
  },
  {
   "cell_type": "code",
   "execution_count": 2,
   "id": "dfef0a03",
   "metadata": {},
   "outputs": [],
   "source": [
    "nasdaq = pd.read_csv('/Users/jcwee/Library/Mobile Documents/com~apple~CloudDocs/src/bitcamp_fintech/project/6. team project4/data/nasdaq.csv', index_col=0, parse_dates=True)\n",
    "snp = pd.read_csv('/Users/jcwee/Library/Mobile Documents/com~apple~CloudDocs/src/bitcamp_fintech/project/6. team project4/data/snp500.csv', index_col=0, parse_dates=True)\n",
    "ftse = pd.read_csv('/Users/jcwee/Library/Mobile Documents/com~apple~CloudDocs/src/bitcamp_fintech/project/6. team project4/data/ftse.csv', index_col=0, parse_dates=True)\n",
    "dax = pd.read_csv('/Users/jcwee/Library/Mobile Documents/com~apple~CloudDocs/src/bitcamp_fintech/project/6. team project4/data/dax.csv', index_col=0, parse_dates=True)\n",
    "nikkei = pd.read_csv('/Users/jcwee/Library/Mobile Documents/com~apple~CloudDocs/src/bitcamp_fintech/project/6. team project4/data/nikkei.csv', index_col=1, parse_dates=True)\n",
    "hangseng = pd.read_csv('/Users/jcwee/Library/Mobile Documents/com~apple~CloudDocs/src/bitcamp_fintech/project/6. team project4/data/hang.csv', index_col=0, parse_dates=True)\n",
    "sanghai = pd.read_csv('/Users/jcwee/Library/Mobile Documents/com~apple~CloudDocs/src/bitcamp_fintech/project/6. team project4/data/sanghai.csv', index_col=0, parse_dates=True)\n",
    "vix = pd.read_csv('/Users/jcwee/Library/Mobile Documents/com~apple~CloudDocs/src/bitcamp_fintech/project/6. team project4/data/vix.csv', index_col=0, parse_dates=True)\n",
    "kospi = pd.read_csv('/Users/jcwee/Library/Mobile Documents/com~apple~CloudDocs/src/bitcamp_fintech/project/6. team project4/data/kospi.csv', index_col=0, parse_dates=True)\n",
    "kosdaq = pd.read_csv('/Users/jcwee/Library/Mobile Documents/com~apple~CloudDocs/src/bitcamp_fintech/project/6. team project4/data/kosdaq.csv', index_col=0, parse_dates=True)"
   ]
  },
  {
   "cell_type": "code",
   "execution_count": 3,
   "id": "ef6af38a",
   "metadata": {},
   "outputs": [],
   "source": [
    "nasdaq.sort_index(inplace=True)\n",
    "snp.sort_index(inplace=True)\n",
    "ftse.sort_index(inplace=True)\n",
    "dax.sort_index(inplace=True)\n",
    "nikkei.sort_index(inplace=True)\n",
    "hangseng.sort_index(inplace=True)\n",
    "sanghai.sort_index(inplace=True)\n",
    "kospi.sort_index(inplace=True)\n",
    "kosdaq.sort_index(inplace=True)"
   ]
  },
  {
   "cell_type": "code",
   "execution_count": 4,
   "id": "4dcce1de",
   "metadata": {},
   "outputs": [],
   "source": [
    "nasdaq['Close'] = nasdaq.Close.apply(lambda x : pd.to_numeric(x.replace(',', '')))\n",
    "dax['Close'] = dax.Close.apply(lambda x : pd.to_numeric(x.replace(',', '')))\n",
    "nikkei['Close'] = nikkei['종가'].apply(lambda x : pd.to_numeric(x.replace(',', '')))\n",
    "hangseng['Close'] = hangseng.Close.apply(lambda x : pd.to_numeric(x.replace(',', '')))\n",
    "\n",
    "nasdaq['Open'] = nasdaq.Open.apply(lambda x : pd.to_numeric(x.replace(',', '')))\n",
    "dax['Open'] = dax.Open.apply(lambda x : pd.to_numeric(x.replace(',', '')))\n",
    "nikkei['Open'] = nikkei['오픈'].apply(lambda x : pd.to_numeric(x.replace(',', '')))\n",
    "hangseng['Open'] = hangseng.Open.apply(lambda x : pd.to_numeric(x.replace(',', '')))\n",
    "\n",
    "nasdaq['High'] = nasdaq.High.apply(lambda x : pd.to_numeric(x.replace(',', '')))\n",
    "dax['High'] = dax.High.apply(lambda x : pd.to_numeric(x.replace(',', '')))\n",
    "nikkei['High'] = nikkei['고가'].apply(lambda x : pd.to_numeric(x.replace(',', '')))\n",
    "hangseng['High'] = hangseng.High.apply(lambda x : pd.to_numeric(x.replace(',', '')))\n",
    "\n",
    "nasdaq['Low'] = nasdaq.Low.apply(lambda x : pd.to_numeric(x.replace(',', '')))\n",
    "dax['Low'] = dax.Low.apply(lambda x : pd.to_numeric(x.replace(',', '')))\n",
    "nikkei['Low'] = nikkei['저가'].apply(lambda x : pd.to_numeric(x.replace(',', '')))\n",
    "hangseng['Low'] = hangseng.Low.apply(lambda x : pd.to_numeric(x.replace(',', '')))"
   ]
  },
  {
   "cell_type": "code",
   "execution_count": 5,
   "id": "1921d50f",
   "metadata": {},
   "outputs": [],
   "source": [
    "df_list = [nasdaq, snp, ftse, dax, nikkei, hangseng, sanghai, kospi]"
   ]
  },
  {
   "cell_type": "markdown",
   "id": "23b52440",
   "metadata": {},
   "source": [
    "## 종가변동률 외의 Feature들 추가"
   ]
  },
  {
   "cell_type": "code",
   "execution_count": 6,
   "id": "4517dd99",
   "metadata": {},
   "outputs": [],
   "source": [
    "df1 = []\n",
    "df2 = []\n",
    "df3 = []\n",
    "df4 = []\n",
    "df5 = []\n",
    "df6 = []\n",
    "df7 = []\n",
    "df8 = []\n",
    "df9 = []\n",
    "for df in df_list:\n",
    "    df1.append((df.Close - df.Close.shift(1)) / df.Close.shift(1))\n",
    "    df2.append((df.Close - df.Open) / df.Open)\n",
    "    df3.append((df.High - df.Low) / df.Low)\n",
    "    df4.append((df.High - df.Close) / df.Close)\n",
    "    df5.append((df.Low - df.Close) / df.Close)\n",
    "    df6.append((df.Open - df.Open.shift(1)) / df.Open.shift(1))\n",
    "    df7.append((df.Open - df.Close.shift(1)) / df.Close.shift(1))\n",
    "    df8.append((df.High - df.High.shift(1)) / df.High.shift(1))\n",
    "    df9.append((df.Low - df.Low.shift(1)) / df.Low.shift(1))"
   ]
  },
  {
   "cell_type": "code",
   "execution_count": 7,
   "id": "03413163",
   "metadata": {},
   "outputs": [],
   "source": [
    "df1 = pd.concat(df1, axis=1)\n",
    "df2 = pd.concat(df2, axis=1)\n",
    "df3 = pd.concat(df3, axis=1)\n",
    "df4 = pd.concat(df4, axis=1)\n",
    "df5 = pd.concat(df5, axis=1)\n",
    "df6 = pd.concat(df6, axis=1)\n",
    "df7 = pd.concat(df7, axis=1)\n",
    "df8 = pd.concat(df8, axis=1)\n",
    "df9 = pd.concat(df9, axis=1)\n",
    "\n",
    "tail = '_1'\n",
    "col_names = [f'NASDAQ{tail}', f'S&P500{tail}', f'FTSE{tail}', f'DAX{tail}',\n",
    "             f'NIKKEI{tail}', f'HANGSENG{tail}', f'SANGHAI{tail}', f'KOSPI{tail}']\n",
    "df1.columns = col_names\n",
    "\n",
    "tail = '_2'\n",
    "col_names = [f'NASDAQ{tail}', f'S&P500{tail}', f'FTSE{tail}', f'DAX{tail}',\n",
    "             f'NIKKEI{tail}', f'HANGSENG{tail}', f'SANGHAI{tail}', f'KOSPI{tail}']\n",
    "df2.columns = col_names\n",
    "\n",
    "tail = '_3'\n",
    "col_names = [f'NASDAQ{tail}', f'S&P500{tail}', f'FTSE{tail}', f'DAX{tail}',\n",
    "             f'NIKKEI{tail}', f'HANGSENG{tail}', f'SANGHAI{tail}', f'KOSPI{tail}']\n",
    "df3.columns = col_names\n",
    "\n",
    "tail = '_4'\n",
    "col_names = [f'NASDAQ{tail}', f'S&P500{tail}', f'FTSE{tail}', f'DAX{tail}',\n",
    "             f'NIKKEI{tail}', f'HANGSENG{tail}', f'SANGHAI{tail}', f'KOSPI{tail}']\n",
    "df4.columns = col_names\n",
    "\n",
    "tail = '_5'\n",
    "col_names = [f'NASDAQ{tail}', f'S&P500{tail}', f'FTSE{tail}', f'DAX{tail}',\n",
    "             f'NIKKEI{tail}', f'HANGSENG{tail}', f'SANGHAI{tail}', f'KOSPI{tail}']\n",
    "df5.columns = col_names\n",
    "\n",
    "tail = '_6'\n",
    "col_names = [f'NASDAQ{tail}', f'S&P500{tail}', f'FTSE{tail}', f'DAX{tail}',\n",
    "             f'NIKKEI{tail}', f'HANGSENG{tail}', f'SANGHAI{tail}', f'KOSPI{tail}']\n",
    "df6.columns = col_names\n",
    "\n",
    "tail = '_7'\n",
    "col_names = [f'NASDAQ{tail}', f'S&P500{tail}', f'FTSE{tail}', f'DAX{tail}',\n",
    "             f'NIKKEI{tail}', f'HANGSENG{tail}', f'SANGHAI{tail}', f'KOSPI{tail}']\n",
    "df7.columns = col_names\n",
    "\n",
    "tail = '_8'\n",
    "col_names = [f'NASDAQ{tail}', f'S&P500{tail}', f'FTSE{tail}', f'DAX{tail}',\n",
    "             f'NIKKEI{tail}', f'HANGSENG{tail}', f'SANGHAI{tail}', f'KOSPI{tail}']\n",
    "df8.columns = col_names\n",
    "\n",
    "tail = '_9'\n",
    "col_names = [f'NASDAQ{tail}', f'S&P500{tail}', f'FTSE{tail}', f'DAX{tail}',\n",
    "             f'NIKKEI{tail}', f'HANGSENG{tail}', f'SANGHAI{tail}', f'KOSPI{tail}']\n",
    "df9.columns = col_names"
   ]
  },
  {
   "cell_type": "code",
   "execution_count": 8,
   "id": "80762b17",
   "metadata": {},
   "outputs": [],
   "source": [
    "final_df = pd.concat([df1, df2, df3, df4, df5, df6, df7, df8, df9], axis=1)"
   ]
  },
  {
   "cell_type": "code",
   "execution_count": 9,
   "id": "cec1ade9",
   "metadata": {},
   "outputs": [],
   "source": [
    "final_df = pd.merge(pd.DataFrame(pd.date_range('2001-01-01', '2021-11-11')).set_index(0),final_df,how='outer', left_index=True, right_index=True)"
   ]
  },
  {
   "cell_type": "code",
   "execution_count": 10,
   "id": "7460db90",
   "metadata": {},
   "outputs": [],
   "source": [
    "final_df.fillna(0, inplace=True)"
   ]
  },
  {
   "cell_type": "code",
   "execution_count": 11,
   "id": "10011bc6",
   "metadata": {},
   "outputs": [],
   "source": [
    "final_df = final_df.loc['2001-01-03' : '2021-11-11']"
   ]
  },
  {
   "cell_type": "code",
   "execution_count": null,
   "id": "8a0c8264",
   "metadata": {},
   "outputs": [],
   "source": []
  },
  {
   "cell_type": "code",
   "execution_count": 12,
   "id": "fb98c005",
   "metadata": {},
   "outputs": [],
   "source": [
    "y = (kospi.Open - kospi.Close.shift(1)) / kospi.Close.shift(1)"
   ]
  },
  {
   "cell_type": "code",
   "execution_count": 13,
   "id": "0c407f4c",
   "metadata": {},
   "outputs": [],
   "source": [
    "y.name = 'y'\n",
    "y = pd.merge(pd.DataFrame(pd.date_range('2001-01-01', '2021-11-11')).set_index(0),y,how='outer', left_index=True, right_index=True)"
   ]
  },
  {
   "cell_type": "code",
   "execution_count": 14,
   "id": "cfaea4ff",
   "metadata": {},
   "outputs": [],
   "source": [
    "y_df = y.loc['2001-01-03' : '2021-11-11']"
   ]
  },
  {
   "cell_type": "code",
   "execution_count": 15,
   "id": "7e1fd50c",
   "metadata": {},
   "outputs": [
    {
     "data": {
      "text/html": [
       "<div>\n",
       "<style scoped>\n",
       "    .dataframe tbody tr th:only-of-type {\n",
       "        vertical-align: middle;\n",
       "    }\n",
       "\n",
       "    .dataframe tbody tr th {\n",
       "        vertical-align: top;\n",
       "    }\n",
       "\n",
       "    .dataframe thead th {\n",
       "        text-align: right;\n",
       "    }\n",
       "</style>\n",
       "<table border=\"1\" class=\"dataframe\">\n",
       "  <thead>\n",
       "    <tr style=\"text-align: right;\">\n",
       "      <th></th>\n",
       "      <th>y</th>\n",
       "    </tr>\n",
       "  </thead>\n",
       "  <tbody>\n",
       "    <tr>\n",
       "      <th>2001-01-03</th>\n",
       "      <td>-0.015760</td>\n",
       "    </tr>\n",
       "    <tr>\n",
       "      <th>2001-01-04</th>\n",
       "      <td>0.057726</td>\n",
       "    </tr>\n",
       "    <tr>\n",
       "      <th>2001-01-05</th>\n",
       "      <td>0.002724</td>\n",
       "    </tr>\n",
       "    <tr>\n",
       "      <th>2001-01-06</th>\n",
       "      <td>NaN</td>\n",
       "    </tr>\n",
       "    <tr>\n",
       "      <th>2001-01-07</th>\n",
       "      <td>NaN</td>\n",
       "    </tr>\n",
       "    <tr>\n",
       "      <th>2001-01-08</th>\n",
       "      <td>-0.012275</td>\n",
       "    </tr>\n",
       "    <tr>\n",
       "      <th>2001-01-09</th>\n",
       "      <td>-0.004773</td>\n",
       "    </tr>\n",
       "    <tr>\n",
       "      <th>2001-01-10</th>\n",
       "      <td>-0.005577</td>\n",
       "    </tr>\n",
       "    <tr>\n",
       "      <th>2001-01-11</th>\n",
       "      <td>0.013284</td>\n",
       "    </tr>\n",
       "    <tr>\n",
       "      <th>2001-01-12</th>\n",
       "      <td>0.030545</td>\n",
       "    </tr>\n",
       "  </tbody>\n",
       "</table>\n",
       "</div>"
      ],
      "text/plain": [
       "                   y\n",
       "2001-01-03 -0.015760\n",
       "2001-01-04  0.057726\n",
       "2001-01-05  0.002724\n",
       "2001-01-06       NaN\n",
       "2001-01-07       NaN\n",
       "2001-01-08 -0.012275\n",
       "2001-01-09 -0.004773\n",
       "2001-01-10 -0.005577\n",
       "2001-01-11  0.013284\n",
       "2001-01-12  0.030545"
      ]
     },
     "execution_count": 15,
     "metadata": {},
     "output_type": "execute_result"
    }
   ],
   "source": [
    "y_df.head(10)"
   ]
  },
  {
   "cell_type": "code",
   "execution_count": 16,
   "id": "e15b9df9",
   "metadata": {},
   "outputs": [],
   "source": [
    "holiday_index = y_df[y_df.y.isnull()].index"
   ]
  },
  {
   "cell_type": "code",
   "execution_count": null,
   "id": "b94c4e2e",
   "metadata": {},
   "outputs": [],
   "source": []
  },
  {
   "cell_type": "code",
   "execution_count": 17,
   "id": "361d62f0",
   "metadata": {},
   "outputs": [],
   "source": [
    "from datetime import timedelta"
   ]
  },
  {
   "cell_type": "code",
   "execution_count": 18,
   "id": "8a62fc3e",
   "metadata": {},
   "outputs": [],
   "source": [
    "# N번째 휴일의 시작 날짜, 처음 값을 0번째 인덱스 값으로 지정.\n",
    "start_day = holiday_index[0]\n",
    "\n",
    "# N번째 휴일의 종료 날짜\n",
    "end_day = holiday_index[0]\n",
    "\n",
    "# 휴일기간을 담기위한 목록\n",
    "holiday_list = []\n",
    "\n",
    "for i in range(1, len(holiday_index)) :\n",
    "    \n",
    "    # N번째 휴일 날짜를 N-1번째 휴일 날짜와 비교해서, 날짜의 차이가 1일이면\n",
    "    if (holiday_index[i] - holiday_index[i-1]) == timedelta(days=1) :\n",
    "        \n",
    "        # 연속된 휴일로 보고 휴일 종료 날짜를 +1일\n",
    "        end_day = holiday_index[i]\n",
    "        \n",
    "    # N번째 휴일 날짜와 N-1번째 휴일 날짜를 비교해서, 날짜의 차이가 1일이 아니면 -> 새로운 휴일의 시작으로 보고 시작과 끝을 바꿔줌.\n",
    "    else :\n",
    "        \n",
    "        # 새로운 휴일을 시작하기 전에 정해진(이전 휴일기간)의 시작과 끝 날짜를 리스트에 담아줌.\n",
    "        holiday_list.append((start_day, end_day))\n",
    "        \n",
    "        # 새로운 휴일 시작 날짜를 새로 지정\n",
    "        start_day = holiday_index[i]\n",
    "        \n",
    "        # 새로운 휴일 종료 날짜도 새로 지정\n",
    "        end_day = holiday_index[i]"
   ]
  },
  {
   "cell_type": "code",
   "execution_count": 19,
   "id": "0bfae7ea",
   "metadata": {},
   "outputs": [],
   "source": [
    "one_day = timedelta(days=1)\n",
    "\n",
    "X = []\n",
    "y = []\n",
    "\n",
    "temp = None\n",
    "\n",
    "for idx in range(len(holiday_list)) :\n",
    "    \n",
    "    #휴일 시작일\n",
    "    holiday_start = holiday_list[idx][0]\n",
    "    \n",
    "    #휴일 종료일\n",
    "    holiday_end = holiday_list[idx][1]\n",
    "    \n",
    "    # 타겟 날짜(휴일 다음날의 날짜)\n",
    "    target_day = holiday_end + one_day\n",
    "    \n",
    "    # 휴일기간 및 D+1일 지수 변동 데이터\n",
    "    n_holiday = final_df.loc[holiday_start - one_day : holiday_end]\n",
    "    \n",
    "#     if len(n_holiday) > 3:\n",
    "#         temp = n_holiday\n",
    "#         break\n",
    "    \n",
    "    # 휴일 기간 동안 지수들의 누적 변동률\n",
    "    n_holiday_change = (n_holiday + 1).cumprod() - 1\n",
    "\n",
    "    # KOSPI, KOSDAQ을 제외한 지수들의 누적수익률 데이터\n",
    "    X_data = n_holiday_change.loc[holiday_end].apply(lambda x : round(x, 4))\n",
    "\n",
    "    # D+1일 KOSPI의 실제 수익률 y\n",
    "    y_data = y_df.loc[target_day].apply(lambda x : round(x, 4))['y']\n",
    "\n",
    "    X.append(X_data.values)\n",
    "    y.append(y_data)"
   ]
  },
  {
   "cell_type": "code",
   "execution_count": 20,
   "id": "658ac769",
   "metadata": {},
   "outputs": [],
   "source": [
    "X = np.array(X)\n",
    "y = np.array(y)"
   ]
  },
  {
   "cell_type": "code",
   "execution_count": null,
   "id": "88f73025",
   "metadata": {},
   "outputs": [],
   "source": []
  },
  {
   "cell_type": "code",
   "execution_count": 21,
   "id": "e38b5597",
   "metadata": {},
   "outputs": [],
   "source": [
    "from sklearn.model_selection import train_test_split\n",
    "\n",
    "X_train, X_test, y_train, y_test = train_test_split(X,y, test_size=0.1)"
   ]
  },
  {
   "cell_type": "code",
   "execution_count": null,
   "id": "5664550e",
   "metadata": {},
   "outputs": [],
   "source": []
  },
  {
   "cell_type": "markdown",
   "id": "4f00538e",
   "metadata": {},
   "source": [
    "## 머신러닝 적용"
   ]
  },
  {
   "cell_type": "code",
   "execution_count": 22,
   "id": "a2a69c4b",
   "metadata": {},
   "outputs": [],
   "source": [
    "from sklearn.linear_model import LinearRegression, Ridge, Lasso\n",
    "from sklearn.ensemble import RandomForestRegressor, GradientBoostingRegressor\n",
    "import lightgbm"
   ]
  },
  {
   "cell_type": "code",
   "execution_count": 23,
   "id": "45ff99b9",
   "metadata": {},
   "outputs": [],
   "source": [
    "lr = LinearRegression()\n",
    "ridge = Ridge()\n",
    "rfr = RandomForestRegressor()\n",
    "gbr = GradientBoostingRegressor()\n",
    "lgbm = lightgbm.LGBMRegressor()"
   ]
  },
  {
   "cell_type": "code",
   "execution_count": 24,
   "id": "373f3482",
   "metadata": {},
   "outputs": [
    {
     "data": {
      "text/plain": [
       "LGBMRegressor()"
      ]
     },
     "execution_count": 24,
     "metadata": {},
     "output_type": "execute_result"
    }
   ],
   "source": [
    "lr.fit(X_train, y_train)\n",
    "ridge.fit(X_train, y_train)\n",
    "rfr.fit(X_train, y_train)\n",
    "gbr.fit(X_train, y_train)\n",
    "lgbm.fit(X_train, y_train)"
   ]
  },
  {
   "cell_type": "code",
   "execution_count": 25,
   "id": "c1861ac9",
   "metadata": {},
   "outputs": [
    {
     "name": "stdout",
     "output_type": "stream",
     "text": [
      "---------- train ----------\n",
      "LinearRegression: 0.6552178608316097\n",
      "Ridge: 0.4587709121404041\n",
      "RandomForest: 0.9392919912303153\n",
      "GradientBoosting: 0.8791440762054674\n",
      "LGBM: 0.9765559616480076\n",
      "---------- test ----------\n",
      "LinearRegression: 0.6277199876667507\n",
      "Ridge: 0.35168279358268606\n",
      "RandomForest: 0.6500584446952021\n",
      "GradientBoosting: 0.6232896833621808\n",
      "LGBM: 0.6066180156264784\n"
     ]
    }
   ],
   "source": [
    "print('---------- train ----------')\n",
    "print('LinearRegression:',lr.score(X_train, y_train))\n",
    "print('Ridge:',ridge.score(X_train, y_train))\n",
    "print('RandomForest:',rfr.score(X_train, y_train))\n",
    "print('GradientBoosting:',gbr.score(X_train, y_train))\n",
    "print('LGBM:',lgbm.score(X_train, y_train))\n",
    "\n",
    "print('---------- test ----------')\n",
    "print('LinearRegression:',lr.score(X_test, y_test))\n",
    "print('Ridge:',ridge.score(X_test, y_test))\n",
    "print('RandomForest:',rfr.score(X_test, y_test))\n",
    "print('GradientBoosting:',gbr.score(X_test, y_test))\n",
    "print('LGBM:',lgbm.score(X_test, y_test))"
   ]
  },
  {
   "cell_type": "code",
   "execution_count": 26,
   "id": "b99099d5",
   "metadata": {},
   "outputs": [
    {
     "data": {
      "image/png": "[encoded data removed]",
      "text/plain": [
       "<Figure size 720x720 with 1 Axes>"
      ]
     },
     "metadata": {
      "needs_background": "light"
     },
     "output_type": "display_data"
    }
   ],
   "source": [
    "lr_preds = lr.predict(X_train)\n",
    "ridge_preds = ridge.predict(X_train)\n",
    "rfr_preds = rfr.predict(X_train)\n",
    "gbr_preds = gbr.predict(X_train)\n",
    "lgbm_preds = lgbm.predict(X_train)\n",
    "\n",
    "score_dict = {\n",
    "    'lr' : lr_preds,\n",
    "#     'ridge' : ridge_preds,\n",
    "    'gbr' : gbr_preds,\n",
    "    'rfr' : rfr_preds,\n",
    "#     'lgbm' : lgbm_preds,\n",
    "    'real' : y_train\n",
    "}\n",
    "\n",
    "pred_df = pd.DataFrame(score_dict)\n",
    "lims = [\n",
    "    np.min([pred_df.min().min(), pred_df.min().min()]),  # min of both axes\n",
    "    np.max([pred_df.max().max(), pred_df.max().max()]),  # max of both axes\n",
    "]\n",
    "\n",
    "# now plot both limits against eachother\n",
    "plt.figure(figsize=(10,10))\n",
    "plt.plot(lims, lims, 'k-', alpha=0.75, zorder=0)\n",
    "plt.scatter(pred_df.real, pred_df.lr, marker='o', label='lr')\n",
    "# plt.scatter(pred_df.real, pred_df.lgbm, marker='.', label='lgbm')\n",
    "plt.scatter(pred_df.real, pred_df.rfr, marker='x', label='rfr')\n",
    "plt.scatter(pred_df.real, pred_df.gbr, marker='+', label='gbr')\n",
    "plt.xlabel('real')\n",
    "plt.ylabel('pred')\n",
    "plt.grid()\n",
    "plt.legend()\n",
    "plt.show()"
   ]
  },
  {
   "cell_type": "code",
   "execution_count": 27,
   "id": "25cdc5dd",
   "metadata": {},
   "outputs": [
    {
     "data": {
      "image/png": "[encoded data removed]",
      "text/plain": [
       "<Figure size 720x720 with 1 Axes>"
      ]
     },
     "metadata": {
      "needs_background": "light"
     },
     "output_type": "display_data"
    }
   ],
   "source": [
    "lr_preds = lr.predict(X_test)\n",
    "ridge_preds = ridge.predict(X_test)\n",
    "rfr_preds = rfr.predict(X_test)\n",
    "gbr_preds = gbr.predict(X_test)\n",
    "lgbm_preds = lgbm.predict(X_test)\n",
    "\n",
    "score_dict = {\n",
    "    'lr' : lr_preds,\n",
    "#     'ridge' : ridge_preds,\n",
    "    'gbr' : gbr_preds,\n",
    "    'rfr' : rfr_preds,\n",
    "#     'lgbm' : lgbm_preds,\n",
    "    'real' : y_test\n",
    "}\n",
    "\n",
    "pred_df = pd.DataFrame(score_dict)\n",
    "lims = [\n",
    "    np.min([pred_df.min().min(), pred_df.min().min()]),  # min of both axes\n",
    "    np.max([pred_df.max().max(), pred_df.max().max()]),  # max of both axes\n",
    "]\n",
    "\n",
    "# now plot both limits against eachother\n",
    "plt.figure(figsize=(10,10))\n",
    "plt.plot(lims, lims, 'k-', alpha=0.75, zorder=0)\n",
    "plt.scatter(pred_df.real, pred_df.lr, marker='o', label='lr')\n",
    "# plt.scatter(pred_df.real, pred_df.lgbm, marker='.', label='lgbm')\n",
    "plt.scatter(pred_df.real, pred_df.rfr, marker='x', label='rfr')\n",
    "plt.scatter(pred_df.real, pred_df.gbr, marker='+', label='gbr')\n",
    "plt.xlabel('real')\n",
    "plt.ylabel('pred')\n",
    "plt.grid()\n",
    "plt.legend()\n",
    "plt.show()"
   ]
  },
  {
   "cell_type": "code",
   "execution_count": null,
   "id": "f9649275",
   "metadata": {},
   "outputs": [],
   "source": []
  },
  {
   "cell_type": "code",
   "execution_count": null,
   "id": "f44053ec",
   "metadata": {},
   "outputs": [],
   "source": []
  },
  {
   "cell_type": "code",
   "execution_count": null,
   "id": "408c7098",
   "metadata": {},
   "outputs": [],
   "source": []
  },
  {
   "cell_type": "code",
   "execution_count": null,
   "id": "2c025700",
   "metadata": {},
   "outputs": [],
   "source": []
  },
  {
   "cell_type": "code",
   "execution_count": null,
   "id": "2df085e5",
   "metadata": {},
   "outputs": [],
   "source": []
  },
  {
   "cell_type": "markdown",
   "id": "996cca29",
   "metadata": {},
   "source": [
    "## 딥러닝 적용"
   ]
  },
  {
   "cell_type": "code",
   "execution_count": 28,
   "id": "0962e5b9",
   "metadata": {},
   "outputs": [],
   "source": [
    "from tensorflow.keras.models import Sequential\n",
    "from tensorflow.keras import models\n",
    "from tensorflow.keras import layers\n",
    "import tensorflow as tf\n",
    "\n",
    "from tensorflow.keras.callbacks import ModelCheckpoint\n",
    "from tensorflow.keras.callbacks import EarlyStopping"
   ]
  },
  {
   "cell_type": "code",
   "execution_count": 29,
   "id": "7ba32e88",
   "metadata": {},
   "outputs": [
    {
     "name": "stdout",
     "output_type": "stream",
     "text": [
      "Metal device set to: Apple M1\n",
      "Model: \"sequential\"\n",
      "_________________________________________________________________\n",
      "Layer (type)                 Output Shape              Param #   \n",
      "=================================================================\n",
      "dense (Dense)                (None, 64)                4672      \n",
      "_________________________________________________________________\n",
      "dense_1 (Dense)              (None, 1)                 65        \n",
      "=================================================================\n",
      "Total params: 4,737\n",
      "Trainable params: 4,737\n",
      "Non-trainable params: 0\n",
      "_________________________________________________________________\n"
     ]
    },
    {
     "name": "stderr",
     "output_type": "stream",
     "text": [
      "2021-11-25 16:19:08.918460: I tensorflow/core/common_runtime/pluggable_device/pluggable_device_factory.cc:305] Could not identify NUMA node of platform GPU ID 0, defaulting to 0. Your kernel may not have been built with NUMA support.\n",
      "2021-11-25 16:19:08.918542: I tensorflow/core/common_runtime/pluggable_device/pluggable_device_factory.cc:271] Created TensorFlow device (/job:localhost/replica:0/task:0/device:GPU:0 with 0 MB memory) -> physical PluggableDevice (device: 0, name: METAL, pci bus id: <undefined>)\n"
     ]
    }
   ],
   "source": [
    "activation = tf.nn.leaky_relu\n",
    "# activation = 'tanh'\n",
    "\n",
    "model = Sequential()\n",
    "model.add(layers.Dense(64, input_dim=72, activation=activation))\n",
    "model.add(layers.Dense(1, activation='linear'))\n",
    "model.summary()"
   ]
  },
  {
   "cell_type": "code",
   "execution_count": 30,
   "id": "9244a7ce",
   "metadata": {},
   "outputs": [],
   "source": [
    "model.compile(optimizer = 'adam', loss = 'mse')"
   ]
  },
  {
   "cell_type": "code",
   "execution_count": 31,
   "id": "da2b7f44",
   "metadata": {
    "scrolled": true
   },
   "outputs": [
    {
     "name": "stderr",
     "output_type": "stream",
     "text": [
      "2021-11-25 16:19:08.988027: I tensorflow/compiler/mlir/mlir_graph_optimization_pass.cc:185] None of the MLIR Optimization Passes are enabled (registered 2)\n",
      "2021-11-25 16:19:08.988205: W tensorflow/core/platform/profile_utils/cpu_utils.cc:128] Failed to get CPU frequency: 0 Hz\n"
     ]
    },
    {
     "name": "stdout",
     "output_type": "stream",
     "text": [
      "Epoch 1/200\n"
     ]
    },
    {
     "name": "stderr",
     "output_type": "stream",
     "text": [
      "2021-11-25 16:19:09.128698: I tensorflow/core/grappler/optimizers/custom_graph_optimizer_registry.cc:112] Plugin optimizer for device_type GPU is enabled.\n"
     ]
    },
    {
     "name": "stdout",
     "output_type": "stream",
     "text": [
      "97/97 [==============================] - 1s 6ms/step - loss: 9.1074e-05 - val_loss: 4.0321e-05\n",
      "Epoch 2/200\n",
      "35/97 [=========>....................] - ETA: 0s - loss: 4.9777e-05"
     ]
    },
    {
     "name": "stderr",
     "output_type": "stream",
     "text": [
      "2021-11-25 16:19:09.672603: I tensorflow/core/grappler/optimizers/custom_graph_optimizer_registry.cc:112] Plugin optimizer for device_type GPU is enabled.\n"
     ]
    },
    {
     "name": "stdout",
     "output_type": "stream",
     "text": [
      "97/97 [==============================] - 0s 3ms/step - loss: 5.1667e-05 - val_loss: 3.4679e-05\n",
      "Epoch 3/200\n",
      "97/97 [==============================] - 0s 3ms/step - loss: 4.4556e-05 - val_loss: 3.6655e-05\n",
      "Epoch 4/200\n",
      "97/97 [==============================] - 0s 3ms/step - loss: 3.8489e-05 - val_loss: 3.4673e-05\n",
      "Epoch 5/200\n",
      "97/97 [==============================] - 0s 3ms/step - loss: 3.9668e-05 - val_loss: 3.1354e-05\n",
      "Epoch 6/200\n",
      "97/97 [==============================] - 0s 3ms/step - loss: 3.1516e-05 - val_loss: 5.6989e-05\n",
      "Epoch 7/200\n",
      "97/97 [==============================] - 0s 3ms/step - loss: 3.0774e-05 - val_loss: 3.1318e-05\n",
      "Epoch 8/200\n",
      "97/97 [==============================] - 0s 3ms/step - loss: 2.9840e-05 - val_loss: 6.1331e-05\n",
      "Epoch 9/200\n",
      "97/97 [==============================] - 0s 3ms/step - loss: 2.9051e-05 - val_loss: 4.0113e-05\n",
      "Epoch 10/200\n",
      "97/97 [==============================] - 0s 3ms/step - loss: 2.7770e-05 - val_loss: 4.1503e-05\n",
      "Epoch 11/200\n",
      "97/97 [==============================] - 0s 3ms/step - loss: 3.2715e-05 - val_loss: 3.4478e-05\n",
      "Epoch 12/200\n",
      "97/97 [==============================] - 0s 3ms/step - loss: 2.7155e-05 - val_loss: 3.7768e-05\n",
      "Epoch 13/200\n",
      "97/97 [==============================] - 0s 3ms/step - loss: 2.6524e-05 - val_loss: 4.0766e-05\n",
      "Epoch 14/200\n",
      "97/97 [==============================] - 0s 3ms/step - loss: 2.4372e-05 - val_loss: 3.2546e-05\n",
      "Epoch 15/200\n",
      "97/97 [==============================] - 0s 3ms/step - loss: 2.6377e-05 - val_loss: 3.4843e-05\n",
      "Epoch 16/200\n",
      "97/97 [==============================] - 0s 3ms/step - loss: 2.3046e-05 - val_loss: 3.4626e-05\n",
      "Epoch 17/200\n",
      "97/97 [==============================] - 0s 3ms/step - loss: 2.2030e-05 - val_loss: 2.9945e-05\n",
      "Epoch 18/200\n",
      "97/97 [==============================] - 0s 3ms/step - loss: 2.3800e-05 - val_loss: 3.3044e-05\n",
      "Epoch 19/200\n",
      "97/97 [==============================] - 0s 3ms/step - loss: 2.3944e-05 - val_loss: 3.6787e-05\n",
      "Epoch 20/200\n",
      "97/97 [==============================] - 0s 3ms/step - loss: 2.3956e-05 - val_loss: 4.5240e-05\n",
      "Epoch 21/200\n",
      "97/97 [==============================] - 0s 3ms/step - loss: 2.2490e-05 - val_loss: 4.0795e-05\n",
      "Epoch 22/200\n",
      "97/97 [==============================] - 0s 3ms/step - loss: 2.6294e-05 - val_loss: 3.2800e-05\n",
      "Epoch 23/200\n",
      "97/97 [==============================] - 0s 3ms/step - loss: 2.6437e-05 - val_loss: 5.7334e-05\n",
      "Epoch 24/200\n",
      "97/97 [==============================] - 0s 3ms/step - loss: 2.3459e-05 - val_loss: 3.8937e-05\n",
      "Epoch 25/200\n",
      "97/97 [==============================] - 0s 3ms/step - loss: 2.3965e-05 - val_loss: 4.3711e-05\n",
      "Epoch 26/200\n",
      "97/97 [==============================] - 0s 3ms/step - loss: 1.9881e-05 - val_loss: 3.4227e-05\n",
      "Epoch 27/200\n",
      "97/97 [==============================] - 0s 3ms/step - loss: 1.9540e-05 - val_loss: 3.9249e-05\n",
      "Epoch 28/200\n",
      "97/97 [==============================] - 0s 3ms/step - loss: 1.8639e-05 - val_loss: 5.5039e-05\n",
      "Epoch 29/200\n",
      "97/97 [==============================] - 0s 3ms/step - loss: 1.9615e-05 - val_loss: 3.4332e-05\n",
      "Epoch 30/200\n",
      "97/97 [==============================] - 0s 3ms/step - loss: 2.0039e-05 - val_loss: 4.5661e-05\n",
      "Epoch 31/200\n",
      "97/97 [==============================] - 0s 3ms/step - loss: 2.1397e-05 - val_loss: 3.7693e-05\n",
      "Epoch 32/200\n",
      "97/97 [==============================] - 0s 3ms/step - loss: 2.6143e-05 - val_loss: 3.7857e-05\n",
      "Epoch 33/200\n",
      "97/97 [==============================] - 0s 3ms/step - loss: 2.1107e-05 - val_loss: 4.2017e-05\n",
      "Epoch 34/200\n",
      "97/97 [==============================] - 0s 3ms/step - loss: 1.9111e-05 - val_loss: 4.3350e-05\n",
      "Epoch 35/200\n",
      "97/97 [==============================] - 0s 3ms/step - loss: 1.8917e-05 - val_loss: 3.5925e-05\n",
      "Epoch 36/200\n",
      "97/97 [==============================] - 0s 3ms/step - loss: 1.8352e-05 - val_loss: 4.6479e-05\n",
      "Epoch 37/200\n",
      "97/97 [==============================] - 0s 3ms/step - loss: 1.9237e-05 - val_loss: 5.2299e-05\n",
      "Epoch 38/200\n",
      "97/97 [==============================] - 0s 3ms/step - loss: 1.8695e-05 - val_loss: 4.4413e-05\n",
      "Epoch 39/200\n",
      "97/97 [==============================] - 0s 3ms/step - loss: 2.0536e-05 - val_loss: 3.8539e-05\n",
      "Epoch 40/200\n",
      "97/97 [==============================] - 0s 3ms/step - loss: 2.2970e-05 - val_loss: 6.2187e-05\n",
      "Epoch 41/200\n",
      "97/97 [==============================] - 0s 3ms/step - loss: 2.0803e-05 - val_loss: 3.9118e-05\n",
      "Epoch 42/200\n",
      "97/97 [==============================] - 0s 3ms/step - loss: 1.7405e-05 - val_loss: 4.2725e-05\n",
      "Epoch 43/200\n",
      "97/97 [==============================] - 0s 3ms/step - loss: 1.6643e-05 - val_loss: 4.5965e-05\n",
      "Epoch 44/200\n",
      "97/97 [==============================] - 0s 3ms/step - loss: 1.7565e-05 - val_loss: 3.6788e-05\n",
      "Epoch 45/200\n",
      "97/97 [==============================] - 0s 3ms/step - loss: 1.9062e-05 - val_loss: 4.0933e-05\n",
      "Epoch 46/200\n",
      "97/97 [==============================] - 0s 3ms/step - loss: 1.6011e-05 - val_loss: 4.8646e-05\n",
      "Epoch 47/200\n",
      "97/97 [==============================] - 0s 3ms/step - loss: 2.2060e-05 - val_loss: 4.6457e-05\n",
      "Epoch 48/200\n",
      "97/97 [==============================] - 0s 3ms/step - loss: 1.8044e-05 - val_loss: 3.6171e-05\n",
      "Epoch 49/200\n",
      "97/97 [==============================] - 0s 3ms/step - loss: 1.6420e-05 - val_loss: 4.2580e-05\n",
      "Epoch 50/200\n",
      "97/97 [==============================] - 0s 3ms/step - loss: 1.6044e-05 - val_loss: 3.9265e-05\n",
      "Epoch 51/200\n",
      "97/97 [==============================] - 0s 3ms/step - loss: 1.5227e-05 - val_loss: 4.7243e-05\n",
      "Epoch 52/200\n",
      "97/97 [==============================] - 0s 3ms/step - loss: 1.6717e-05 - val_loss: 5.7417e-05\n",
      "Epoch 53/200\n",
      "97/97 [==============================] - 0s 3ms/step - loss: 1.5343e-05 - val_loss: 4.5044e-05\n",
      "Epoch 54/200\n",
      "97/97 [==============================] - 0s 3ms/step - loss: 1.5617e-05 - val_loss: 4.2471e-05\n",
      "Epoch 55/200\n",
      "97/97 [==============================] - 0s 3ms/step - loss: 1.7210e-05 - val_loss: 4.1348e-05\n",
      "Epoch 56/200\n",
      "97/97 [==============================] - 0s 3ms/step - loss: 1.4999e-05 - val_loss: 4.0361e-05\n",
      "Epoch 57/200\n",
      "97/97 [==============================] - 0s 3ms/step - loss: 1.6532e-05 - val_loss: 3.9667e-05\n",
      "Epoch 58/200\n",
      "97/97 [==============================] - 0s 3ms/step - loss: 1.6452e-05 - val_loss: 4.0799e-05\n",
      "Epoch 59/200\n",
      "97/97 [==============================] - 0s 3ms/step - loss: 1.7957e-05 - val_loss: 4.0235e-05\n",
      "Epoch 60/200\n",
      "97/97 [==============================] - 0s 3ms/step - loss: 1.4870e-05 - val_loss: 6.1818e-05\n",
      "Epoch 61/200\n",
      "97/97 [==============================] - 0s 3ms/step - loss: 1.5636e-05 - val_loss: 3.9416e-05\n",
      "Epoch 62/200\n",
      "97/97 [==============================] - 0s 3ms/step - loss: 1.3124e-05 - val_loss: 4.7219e-05\n",
      "Epoch 63/200\n",
      "97/97 [==============================] - 0s 3ms/step - loss: 1.4962e-05 - val_loss: 4.5370e-05\n",
      "Epoch 64/200\n",
      "97/97 [==============================] - 0s 3ms/step - loss: 1.3794e-05 - val_loss: 6.2209e-05\n",
      "Epoch 65/200\n",
      "97/97 [==============================] - 0s 3ms/step - loss: 1.7671e-05 - val_loss: 6.5053e-05\n",
      "Epoch 66/200\n",
      "97/97 [==============================] - 0s 3ms/step - loss: 2.0912e-05 - val_loss: 5.7361e-05\n",
      "Epoch 67/200\n",
      "97/97 [==============================] - 0s 3ms/step - loss: 1.7418e-05 - val_loss: 3.8506e-05\n",
      "Epoch 68/200\n",
      "97/97 [==============================] - 0s 3ms/step - loss: 1.4382e-05 - val_loss: 4.2207e-05\n",
      "Epoch 69/200\n",
      "97/97 [==============================] - 0s 3ms/step - loss: 1.3175e-05 - val_loss: 4.7923e-05\n",
      "Epoch 70/200\n",
      "97/97 [==============================] - 0s 3ms/step - loss: 1.3448e-05 - val_loss: 4.2065e-05\n",
      "Epoch 71/200\n",
      "97/97 [==============================] - 0s 3ms/step - loss: 1.2954e-05 - val_loss: 6.1244e-05\n",
      "Epoch 72/200\n",
      "97/97 [==============================] - 0s 3ms/step - loss: 1.5286e-05 - val_loss: 4.2960e-05\n",
      "Epoch 73/200\n",
      "97/97 [==============================] - 0s 3ms/step - loss: 1.4661e-05 - val_loss: 5.0435e-05\n",
      "Epoch 74/200\n",
      "97/97 [==============================] - 0s 3ms/step - loss: 1.3588e-05 - val_loss: 4.3465e-05\n",
      "Epoch 75/200\n",
      "97/97 [==============================] - 0s 3ms/step - loss: 1.4268e-05 - val_loss: 4.1263e-05\n",
      "Epoch 76/200\n",
      "97/97 [==============================] - 0s 3ms/step - loss: 1.5635e-05 - val_loss: 4.4511e-05\n",
      "Epoch 77/200\n",
      "97/97 [==============================] - 0s 3ms/step - loss: 1.2132e-05 - val_loss: 4.6605e-05\n",
      "Epoch 78/200\n"
     ]
    },
    {
     "name": "stdout",
     "output_type": "stream",
     "text": [
      "97/97 [==============================] - 0s 3ms/step - loss: 1.1773e-05 - val_loss: 5.3023e-05\n",
      "Epoch 79/200\n",
      "97/97 [==============================] - 0s 3ms/step - loss: 1.3994e-05 - val_loss: 5.1763e-05\n",
      "Epoch 80/200\n",
      "97/97 [==============================] - 0s 3ms/step - loss: 1.4819e-05 - val_loss: 4.4748e-05\n",
      "Epoch 81/200\n",
      "97/97 [==============================] - 0s 3ms/step - loss: 1.4013e-05 - val_loss: 5.5151e-05\n",
      "Epoch 82/200\n",
      "97/97 [==============================] - 0s 3ms/step - loss: 1.2901e-05 - val_loss: 4.9074e-05\n",
      "Epoch 83/200\n",
      "97/97 [==============================] - 0s 3ms/step - loss: 1.3578e-05 - val_loss: 4.2387e-05\n",
      "Epoch 84/200\n",
      "97/97 [==============================] - 0s 3ms/step - loss: 1.2516e-05 - val_loss: 4.6305e-05\n",
      "Epoch 85/200\n",
      "97/97 [==============================] - 0s 3ms/step - loss: 1.3073e-05 - val_loss: 5.1518e-05\n",
      "Epoch 86/200\n",
      "97/97 [==============================] - 0s 3ms/step - loss: 1.1486e-05 - val_loss: 5.0170e-05\n",
      "Epoch 87/200\n",
      "97/97 [==============================] - 0s 3ms/step - loss: 1.3755e-05 - val_loss: 4.3411e-05\n",
      "Epoch 88/200\n",
      "97/97 [==============================] - 0s 3ms/step - loss: 1.1676e-05 - val_loss: 5.5540e-05\n",
      "Epoch 89/200\n",
      "97/97 [==============================] - 0s 3ms/step - loss: 1.3898e-05 - val_loss: 6.0913e-05\n",
      "Epoch 90/200\n",
      "97/97 [==============================] - 0s 3ms/step - loss: 1.3460e-05 - val_loss: 5.3462e-05\n",
      "Epoch 91/200\n",
      "97/97 [==============================] - 0s 3ms/step - loss: 1.4361e-05 - val_loss: 4.7222e-05\n",
      "Epoch 92/200\n",
      "97/97 [==============================] - 0s 3ms/step - loss: 1.6936e-05 - val_loss: 4.6158e-05\n",
      "Epoch 93/200\n",
      "97/97 [==============================] - 0s 3ms/step - loss: 1.3191e-05 - val_loss: 4.4422e-05\n",
      "Epoch 94/200\n",
      "97/97 [==============================] - 0s 3ms/step - loss: 1.1568e-05 - val_loss: 6.4888e-05\n",
      "Epoch 95/200\n",
      "97/97 [==============================] - 0s 3ms/step - loss: 1.1719e-05 - val_loss: 4.8387e-05\n",
      "Epoch 96/200\n",
      "97/97 [==============================] - 0s 3ms/step - loss: 1.1376e-05 - val_loss: 4.7970e-05\n",
      "Epoch 97/200\n",
      "97/97 [==============================] - 0s 3ms/step - loss: 1.1244e-05 - val_loss: 5.7012e-05\n",
      "Epoch 98/200\n",
      "97/97 [==============================] - 0s 3ms/step - loss: 1.0943e-05 - val_loss: 4.1055e-05\n",
      "Epoch 99/200\n",
      "97/97 [==============================] - 0s 3ms/step - loss: 1.8134e-05 - val_loss: 4.9725e-05\n",
      "Epoch 100/200\n",
      "97/97 [==============================] - 0s 3ms/step - loss: 1.2061e-05 - val_loss: 6.0265e-05\n",
      "Epoch 101/200\n",
      "97/97 [==============================] - 0s 3ms/step - loss: 1.1130e-05 - val_loss: 4.9481e-05\n",
      "Epoch 102/200\n",
      "97/97 [==============================] - 0s 3ms/step - loss: 1.6713e-05 - val_loss: 5.4533e-05\n",
      "Epoch 103/200\n",
      "97/97 [==============================] - 0s 3ms/step - loss: 1.5449e-05 - val_loss: 5.2058e-05\n",
      "Epoch 104/200\n",
      "97/97 [==============================] - 0s 3ms/step - loss: 1.3104e-05 - val_loss: 4.7341e-05\n",
      "Epoch 105/200\n",
      "97/97 [==============================] - 0s 3ms/step - loss: 1.2038e-05 - val_loss: 6.5822e-05\n",
      "Epoch 106/200\n",
      "97/97 [==============================] - 0s 3ms/step - loss: 1.2234e-05 - val_loss: 4.9426e-05\n",
      "Epoch 107/200\n",
      "97/97 [==============================] - 0s 3ms/step - loss: 1.1314e-05 - val_loss: 4.8160e-05\n",
      "Epoch 108/200\n",
      "97/97 [==============================] - 0s 3ms/step - loss: 1.0488e-05 - val_loss: 5.0676e-05\n",
      "Epoch 109/200\n",
      "97/97 [==============================] - 0s 3ms/step - loss: 1.0388e-05 - val_loss: 5.0060e-05\n",
      "Epoch 110/200\n",
      "97/97 [==============================] - 0s 3ms/step - loss: 1.0147e-05 - val_loss: 4.9268e-05\n",
      "Epoch 111/200\n",
      "97/97 [==============================] - 0s 3ms/step - loss: 1.3195e-05 - val_loss: 5.5715e-05\n",
      "Epoch 112/200\n",
      "97/97 [==============================] - 0s 3ms/step - loss: 1.0471e-05 - val_loss: 5.2123e-05\n",
      "Epoch 113/200\n",
      "97/97 [==============================] - 0s 3ms/step - loss: 1.0455e-05 - val_loss: 4.4388e-05\n",
      "Epoch 114/200\n",
      "97/97 [==============================] - 0s 3ms/step - loss: 9.2141e-06 - val_loss: 5.0210e-05\n",
      "Epoch 115/200\n",
      "97/97 [==============================] - 0s 3ms/step - loss: 1.3784e-05 - val_loss: 5.7680e-05\n",
      "Epoch 116/200\n",
      "97/97 [==============================] - 0s 3ms/step - loss: 1.1843e-05 - val_loss: 5.0828e-05\n",
      "Epoch 117/200\n",
      "97/97 [==============================] - 0s 3ms/step - loss: 1.4421e-05 - val_loss: 5.2381e-05\n",
      "Epoch 118/200\n",
      "97/97 [==============================] - 0s 3ms/step - loss: 1.1322e-05 - val_loss: 5.0493e-05\n",
      "Epoch 119/200\n",
      "97/97 [==============================] - 0s 3ms/step - loss: 1.1878e-05 - val_loss: 5.1864e-05\n",
      "Epoch 120/200\n",
      "97/97 [==============================] - 0s 3ms/step - loss: 1.0291e-05 - val_loss: 4.9105e-05\n",
      "Epoch 121/200\n",
      "97/97 [==============================] - 0s 3ms/step - loss: 1.0009e-05 - val_loss: 5.0026e-05\n",
      "Epoch 122/200\n",
      "97/97 [==============================] - 0s 3ms/step - loss: 9.5610e-06 - val_loss: 5.5142e-05\n",
      "Epoch 123/200\n",
      "97/97 [==============================] - 0s 3ms/step - loss: 1.1172e-05 - val_loss: 4.7290e-05\n",
      "Epoch 124/200\n",
      "97/97 [==============================] - 0s 3ms/step - loss: 2.3423e-05 - val_loss: 4.5455e-05\n",
      "Epoch 125/200\n",
      "97/97 [==============================] - 0s 3ms/step - loss: 1.6000e-05 - val_loss: 4.8083e-05\n",
      "Epoch 126/200\n",
      "97/97 [==============================] - 0s 3ms/step - loss: 9.7954e-06 - val_loss: 4.8236e-05\n",
      "Epoch 127/200\n",
      "97/97 [==============================] - 0s 3ms/step - loss: 1.0093e-05 - val_loss: 5.8246e-05\n",
      "Epoch 128/200\n",
      "97/97 [==============================] - 0s 3ms/step - loss: 1.0286e-05 - val_loss: 5.9378e-05\n",
      "Epoch 129/200\n",
      "97/97 [==============================] - 0s 3ms/step - loss: 9.7827e-06 - val_loss: 5.2439e-05\n",
      "Epoch 130/200\n",
      "97/97 [==============================] - 0s 3ms/step - loss: 1.0955e-05 - val_loss: 5.0879e-05\n",
      "Epoch 131/200\n",
      "97/97 [==============================] - 0s 3ms/step - loss: 1.1151e-05 - val_loss: 4.4472e-05\n",
      "Epoch 132/200\n",
      "97/97 [==============================] - 0s 3ms/step - loss: 9.1848e-06 - val_loss: 5.1852e-05\n",
      "Epoch 133/200\n",
      "97/97 [==============================] - 0s 3ms/step - loss: 9.9136e-06 - val_loss: 5.7439e-05\n",
      "Epoch 134/200\n",
      "97/97 [==============================] - 0s 3ms/step - loss: 8.7494e-06 - val_loss: 4.8192e-05\n",
      "Epoch 135/200\n",
      "97/97 [==============================] - 0s 3ms/step - loss: 8.4940e-06 - val_loss: 5.0929e-05\n",
      "Epoch 136/200\n",
      "97/97 [==============================] - 0s 3ms/step - loss: 1.1867e-05 - val_loss: 4.8074e-05\n",
      "Epoch 137/200\n",
      "97/97 [==============================] - 0s 3ms/step - loss: 1.0525e-05 - val_loss: 4.9337e-05\n",
      "Epoch 138/200\n",
      "97/97 [==============================] - 0s 3ms/step - loss: 1.0426e-05 - val_loss: 4.7454e-05\n",
      "Epoch 139/200\n",
      "97/97 [==============================] - 0s 3ms/step - loss: 1.0008e-05 - val_loss: 6.8181e-05\n",
      "Epoch 140/200\n",
      "97/97 [==============================] - 0s 3ms/step - loss: 1.3974e-05 - val_loss: 4.9757e-05\n",
      "Epoch 141/200\n",
      "97/97 [==============================] - 0s 3ms/step - loss: 1.0207e-05 - val_loss: 5.0967e-05\n",
      "Epoch 142/200\n",
      "97/97 [==============================] - 0s 3ms/step - loss: 9.7995e-06 - val_loss: 5.7233e-05\n",
      "Epoch 143/200\n",
      "97/97 [==============================] - 0s 3ms/step - loss: 8.6210e-06 - val_loss: 5.0550e-05\n",
      "Epoch 144/200\n",
      "97/97 [==============================] - 0s 3ms/step - loss: 1.1325e-05 - val_loss: 8.6129e-05\n",
      "Epoch 145/200\n",
      "97/97 [==============================] - 0s 3ms/step - loss: 2.2536e-05 - val_loss: 4.7858e-05\n",
      "Epoch 146/200\n",
      "97/97 [==============================] - 0s 3ms/step - loss: 1.4056e-05 - val_loss: 5.2782e-05\n",
      "Epoch 147/200\n",
      "97/97 [==============================] - 0s 3ms/step - loss: 9.7538e-06 - val_loss: 5.0695e-05\n",
      "Epoch 148/200\n",
      "97/97 [==============================] - 0s 3ms/step - loss: 8.2456e-06 - val_loss: 5.4593e-05\n",
      "Epoch 149/200\n",
      "97/97 [==============================] - 0s 3ms/step - loss: 9.9131e-06 - val_loss: 5.0572e-05\n",
      "Epoch 150/200\n",
      "97/97 [==============================] - 0s 3ms/step - loss: 8.7590e-06 - val_loss: 5.2639e-05\n",
      "Epoch 151/200\n",
      "97/97 [==============================] - 0s 3ms/step - loss: 7.8935e-06 - val_loss: 4.6511e-05\n",
      "Epoch 152/200\n",
      "97/97 [==============================] - 0s 3ms/step - loss: 8.9191e-06 - val_loss: 5.2782e-05\n",
      "Epoch 153/200\n",
      "97/97 [==============================] - 0s 3ms/step - loss: 9.9398e-06 - val_loss: 4.9991e-05\n",
      "Epoch 154/200\n",
      "97/97 [==============================] - 0s 3ms/step - loss: 7.9527e-06 - val_loss: 5.5418e-05\n",
      "Epoch 155/200\n",
      "97/97 [==============================] - 0s 3ms/step - loss: 9.0827e-06 - val_loss: 5.3142e-05\n",
      "Epoch 156/200\n",
      "97/97 [==============================] - 0s 3ms/step - loss: 8.2900e-06 - val_loss: 4.9807e-05\n",
      "Epoch 157/200\n",
      "97/97 [==============================] - 0s 3ms/step - loss: 8.3896e-06 - val_loss: 5.2405e-05\n",
      "Epoch 158/200\n",
      "97/97 [==============================] - 0s 3ms/step - loss: 8.0118e-06 - val_loss: 6.4638e-05\n",
      "Epoch 159/200\n",
      "97/97 [==============================] - 0s 3ms/step - loss: 9.8425e-06 - val_loss: 5.9987e-05\n",
      "Epoch 160/200\n",
      "97/97 [==============================] - 0s 3ms/step - loss: 1.0093e-05 - val_loss: 5.4887e-05\n",
      "Epoch 161/200\n",
      "97/97 [==============================] - 0s 3ms/step - loss: 1.1439e-05 - val_loss: 5.2483e-05\n",
      "Epoch 162/200\n",
      "97/97 [==============================] - 0s 3ms/step - loss: 1.2707e-05 - val_loss: 5.2299e-05\n",
      "Epoch 163/200\n",
      "97/97 [==============================] - 0s 3ms/step - loss: 9.2862e-06 - val_loss: 5.7215e-05\n",
      "Epoch 164/200\n",
      "97/97 [==============================] - 0s 3ms/step - loss: 8.1343e-06 - val_loss: 5.0136e-05\n",
      "Epoch 165/200\n",
      "97/97 [==============================] - 0s 3ms/step - loss: 8.1813e-06 - val_loss: 5.8024e-05\n",
      "Epoch 166/200\n",
      "97/97 [==============================] - 0s 3ms/step - loss: 9.3256e-06 - val_loss: 5.4824e-05\n",
      "Epoch 167/200\n",
      "97/97 [==============================] - 0s 3ms/step - loss: 8.3907e-06 - val_loss: 5.2402e-05\n",
      "Epoch 168/200\n",
      "97/97 [==============================] - 0s 3ms/step - loss: 9.0743e-06 - val_loss: 5.1158e-05\n",
      "Epoch 169/200\n",
      "97/97 [==============================] - 0s 3ms/step - loss: 7.9762e-06 - val_loss: 6.1145e-05\n",
      "Epoch 170/200\n",
      "97/97 [==============================] - 0s 3ms/step - loss: 1.0066e-05 - val_loss: 5.3845e-05\n",
      "Epoch 171/200\n",
      "97/97 [==============================] - 0s 3ms/step - loss: 8.5427e-06 - val_loss: 5.5489e-05\n",
      "Epoch 172/200\n",
      "97/97 [==============================] - 0s 3ms/step - loss: 9.8401e-06 - val_loss: 5.9607e-05\n",
      "Epoch 173/200\n",
      "97/97 [==============================] - 0s 3ms/step - loss: 8.8548e-06 - val_loss: 6.0610e-05\n",
      "Epoch 174/200\n",
      "97/97 [==============================] - 0s 3ms/step - loss: 9.2391e-06 - val_loss: 5.8329e-05\n",
      "Epoch 175/200\n",
      "97/97 [==============================] - 0s 3ms/step - loss: 8.2873e-06 - val_loss: 6.1621e-05\n",
      "Epoch 176/200\n",
      "97/97 [==============================] - 0s 3ms/step - loss: 7.9460e-06 - val_loss: 6.1658e-05\n",
      "Epoch 177/200\n",
      "97/97 [==============================] - 0s 3ms/step - loss: 9.8875e-06 - val_loss: 5.3295e-05\n",
      "Epoch 178/200\n",
      "97/97 [==============================] - 0s 3ms/step - loss: 1.4385e-05 - val_loss: 5.4216e-05\n",
      "Epoch 179/200\n",
      "97/97 [==============================] - 0s 3ms/step - loss: 1.3088e-05 - val_loss: 4.5878e-05\n",
      "Epoch 180/200\n",
      "97/97 [==============================] - 0s 3ms/step - loss: 1.0044e-05 - val_loss: 5.8332e-05\n",
      "Epoch 181/200\n",
      "97/97 [==============================] - 0s 3ms/step - loss: 1.1650e-05 - val_loss: 5.0227e-05\n",
      "Epoch 182/200\n",
      "97/97 [==============================] - 0s 3ms/step - loss: 8.4167e-06 - val_loss: 5.4026e-05\n",
      "Epoch 183/200\n",
      "97/97 [==============================] - 0s 3ms/step - loss: 7.7621e-06 - val_loss: 5.6476e-05\n",
      "Epoch 184/200\n",
      "97/97 [==============================] - 0s 3ms/step - loss: 8.3446e-06 - val_loss: 6.5724e-05\n",
      "Epoch 185/200\n",
      "97/97 [==============================] - 0s 3ms/step - loss: 8.8743e-06 - val_loss: 5.3444e-05\n",
      "Epoch 186/200\n",
      "97/97 [==============================] - 0s 3ms/step - loss: 8.2155e-06 - val_loss: 5.4209e-05\n",
      "Epoch 187/200\n",
      "97/97 [==============================] - 0s 3ms/step - loss: 7.5395e-06 - val_loss: 5.8851e-05\n",
      "Epoch 188/200\n",
      "97/97 [==============================] - 0s 3ms/step - loss: 9.0403e-06 - val_loss: 4.8092e-05\n",
      "Epoch 189/200\n",
      "97/97 [==============================] - 0s 3ms/step - loss: 1.1664e-05 - val_loss: 4.6529e-05\n",
      "Epoch 190/200\n",
      "97/97 [==============================] - 0s 3ms/step - loss: 7.6739e-06 - val_loss: 5.2524e-05\n",
      "Epoch 191/200\n",
      "97/97 [==============================] - 0s 3ms/step - loss: 7.8282e-06 - val_loss: 5.3653e-05\n",
      "Epoch 192/200\n",
      "97/97 [==============================] - 0s 3ms/step - loss: 1.0162e-05 - val_loss: 6.0356e-05\n",
      "Epoch 193/200\n",
      "97/97 [==============================] - 0s 3ms/step - loss: 7.5371e-06 - val_loss: 5.6767e-05\n",
      "Epoch 194/200\n",
      "97/97 [==============================] - 0s 3ms/step - loss: 8.4576e-06 - val_loss: 5.7378e-05\n",
      "Epoch 195/200\n",
      "97/97 [==============================] - 0s 3ms/step - loss: 7.8162e-06 - val_loss: 5.4333e-05\n",
      "Epoch 196/200\n",
      "97/97 [==============================] - 0s 3ms/step - loss: 7.3239e-06 - val_loss: 5.6243e-05\n",
      "Epoch 197/200\n",
      "97/97 [==============================] - 0s 3ms/step - loss: 7.1269e-06 - val_loss: 5.8548e-05\n",
      "Epoch 198/200\n",
      "97/97 [==============================] - 0s 3ms/step - loss: 8.8202e-06 - val_loss: 5.1481e-05\n",
      "Epoch 199/200\n",
      "97/97 [==============================] - 0s 3ms/step - loss: 8.1929e-06 - val_loss: 5.7035e-05\n",
      "Epoch 200/200\n",
      "97/97 [==============================] - 0s 3ms/step - loss: 8.2975e-06 - val_loss: 5.4016e-05\n"
     ]
    },
    {
     "data": {
      "text/plain": [
       "<keras.callbacks.History at 0x2922f1d30>"
      ]
     },
     "execution_count": 31,
     "metadata": {},
     "output_type": "execute_result"
    }
   ],
   "source": [
    "model.fit(X_train, y_train, validation_split=0.1, epochs = 200, batch_size = 10)"
   ]
  },
  {
   "cell_type": "code",
   "execution_count": 32,
   "id": "6abe9cf7",
   "metadata": {},
   "outputs": [
    {
     "name": "stdout",
     "output_type": "stream",
     "text": [
      "0.8390382342542424\n"
     ]
    },
    {
     "name": "stderr",
     "output_type": "stream",
     "text": [
      "2021-11-25 16:20:10.775530: I tensorflow/core/grappler/optimizers/custom_graph_optimizer_registry.cc:112] Plugin optimizer for device_type GPU is enabled.\n"
     ]
    },
    {
     "data": {
      "image/png": "[encoded data removed]",
      "text/plain": [
       "<Figure size 720x720 with 1 Axes>"
      ]
     },
     "metadata": {
      "needs_background": "light"
     },
     "output_type": "display_data"
    }
   ],
   "source": [
    "from sklearn.metrics import r2_score\n",
    "\n",
    "\n",
    "train_preds = [v[0] for v in model.predict(X_train)]\n",
    "\n",
    "\n",
    "print(r2_score(train_preds, list(y_train)))\n",
    "\n",
    "\n",
    "score_dict = {\n",
    "    'dl' : train_preds,\n",
    "    'real' : y_train\n",
    "}\n",
    "\n",
    "pred_df = pd.DataFrame(score_dict)\n",
    "\n",
    "lims = [\n",
    "    np.min([pred_df.min().min(), pred_df.min().min()]),  # min of both axes\n",
    "    np.max([pred_df.max().max(), pred_df.max().max()]),  # max of both axes\n",
    "]\n",
    "\n",
    "# now plot both limits against eachother\n",
    "plt.figure(figsize=(10,10))\n",
    "plt.plot(lims, lims, 'k-', alpha=0.75, zorder=0)\n",
    "plt.scatter(pred_df.real, pred_df.dl, marker='o', label='lr')\n",
    "plt.xlabel('real')\n",
    "plt.ylabel('pred')\n",
    "plt.grid()\n",
    "plt.legend()\n",
    "plt.show()"
   ]
  },
  {
   "cell_type": "code",
   "execution_count": 33,
   "id": "f68f7160",
   "metadata": {},
   "outputs": [
    {
     "name": "stdout",
     "output_type": "stream",
     "text": [
      "0.40015190731664285\n"
     ]
    },
    {
     "data": {
      "image/png": "[encoded data removed]",
      "text/plain": [
       "<Figure size 720x720 with 1 Axes>"
      ]
     },
     "metadata": {
      "needs_background": "light"
     },
     "output_type": "display_data"
    }
   ],
   "source": [
    "from sklearn.metrics import r2_score\n",
    "\n",
    "\n",
    "preds = [v[0] for v in model.predict(X_test)]\n",
    "\n",
    "\n",
    "print(r2_score(preds, list(y_test)))\n",
    "\n",
    "\n",
    "score_dict = {\n",
    "    'dl' : preds,\n",
    "    'real' : y_test\n",
    "}\n",
    "\n",
    "pred_df = pd.DataFrame(score_dict)\n",
    "\n",
    "lims = [\n",
    "    np.min([pred_df.min().min(), pred_df.min().min()]),  # min of both axes\n",
    "    np.max([pred_df.max().max(), pred_df.max().max()]),  # max of both axes\n",
    "]\n",
    "\n",
    "# now plot both limits against eachother\n",
    "plt.figure(figsize=(10,10))\n",
    "plt.plot(lims, lims, 'k-', alpha=0.75, zorder=0)\n",
    "plt.scatter(pred_df.real, pred_df.dl, marker='o', label='lr')\n",
    "plt.xlabel('real')\n",
    "plt.ylabel('pred')\n",
    "plt.grid()\n",
    "plt.legend()\n",
    "plt.show()"
   ]
  },
  {
   "cell_type": "code",
   "execution_count": null,
   "id": "432024d4",
   "metadata": {},
   "outputs": [],
   "source": []
  },
  {
   "cell_type": "markdown",
   "id": "ada950a6",
   "metadata": {},
   "source": [
    "## Backtesting 적용\n",
    "- 최근 300일의 휴일 데이터를 통해 test"
   ]
  },
  {
   "cell_type": "code",
   "execution_count": 103,
   "id": "c40326b4",
   "metadata": {},
   "outputs": [],
   "source": [
    "one_day = timedelta(days=1)\n",
    "\n",
    "X_v = []\n",
    "y_v = []\n",
    "v_dates = []\n",
    "\n",
    "temp = None\n",
    "\n",
    "for idx in range(len(holiday_list)-300, len(holiday_list)) :\n",
    "    \n",
    "    #휴일 시작일\n",
    "    holiday_start = holiday_list[idx][0]\n",
    "    \n",
    "    #휴일 종료일\n",
    "    holiday_end = holiday_list[idx][1]\n",
    "    \n",
    "    # 타겟 날짜(휴일 다음날의 날짜)\n",
    "    target_day = holiday_end + one_day\n",
    "    \n",
    "    # 휴일기간 및 D+1일 지수 변동 데이터\n",
    "    n_holiday = final_df.loc[holiday_start - one_day : holiday_end]\n",
    "    \n",
    "#     if len(n_holiday) > 3:\n",
    "#         temp = n_holiday\n",
    "#         break\n",
    "    \n",
    "    # 휴일 기간 동안 지수들의 누적 변동률\n",
    "    n_holiday_change = (n_holiday + 1).cumprod() - 1\n",
    "\n",
    "    # KOSPI, KOSDAQ을 제외한 지수들의 누적수익률 데이터\n",
    "    X_data = n_holiday_change.loc[holiday_end].apply(lambda x : round(x, 4))\n",
    "\n",
    "    # D+1일 KOSPI의 실제 수익률 y\n",
    "    y_data = y_df.loc[target_day].apply(lambda x : round(x, 4))['y']\n",
    "    v_dates.append(target_day)\n",
    "    X_v.append(X_data.values)\n",
    "    y_v.append(y_data)"
   ]
  },
  {
   "cell_type": "code",
   "execution_count": 104,
   "id": "212b011f",
   "metadata": {},
   "outputs": [],
   "source": [
    "X_v = np.array(X_v)\n",
    "y_v = np.array(y_v)"
   ]
  },
  {
   "cell_type": "code",
   "execution_count": 105,
   "id": "e5da50a2",
   "metadata": {},
   "outputs": [],
   "source": [
    "val_preds = model.predict(X_v)"
   ]
  },
  {
   "cell_type": "code",
   "execution_count": 106,
   "id": "5c804d12",
   "metadata": {},
   "outputs": [],
   "source": [
    "val_dict = {\n",
    "    \"date\" : v_dates,\n",
    "    \"preds\" : val_preds.reshape(-1)\n",
    "}"
   ]
  },
  {
   "cell_type": "code",
   "execution_count": 107,
   "id": "f44d8c29",
   "metadata": {},
   "outputs": [],
   "source": [
    "val_df = pd.DataFrame(val_dict)\n",
    "val_df['res'] = val_df.preds > 0"
   ]
  },
  {
   "cell_type": "code",
   "execution_count": 108,
   "id": "b2a0f458",
   "metadata": {},
   "outputs": [],
   "source": [
    "val_df['res'] = val_df.res.apply(lambda x : int(x))"
   ]
  },
  {
   "cell_type": "code",
   "execution_count": 109,
   "id": "705ae499",
   "metadata": {},
   "outputs": [],
   "source": [
    "val_df.set_index('date', inplace=True)"
   ]
  },
  {
   "cell_type": "code",
   "execution_count": 110,
   "id": "c0aaaaf9",
   "metadata": {},
   "outputs": [],
   "source": [
    "val_df = pd.merge(val_df, kospi, left_index=True, right_index=True)"
   ]
  },
  {
   "cell_type": "code",
   "execution_count": 111,
   "id": "3cfe77ef",
   "metadata": {},
   "outputs": [],
   "source": [
    "val_df['gap'] = (val_df.Close - val_df.Open)/val_df.Open"
   ]
  },
  {
   "cell_type": "code",
   "execution_count": 112,
   "id": "7d44205e",
   "metadata": {},
   "outputs": [],
   "source": [
    "val_df['cum'] = val_df['res'] * val_df['gap']"
   ]
  },
  {
   "cell_type": "code",
   "execution_count": 114,
   "id": "ef54fc7d",
   "metadata": {},
   "outputs": [
    {
     "data": {
      "text/plain": [
       "<AxesSubplot:>"
      ]
     },
     "execution_count": 114,
     "metadata": {},
     "output_type": "execute_result"
    },
    {
     "data": {
      "image/png": "[encoded data removed]",
      "text/plain": [
       "<Figure size 1440x720 with 1 Axes>"
      ]
     },
     "metadata": {
      "needs_background": "light"
     },
     "output_type": "display_data"
    }
   ],
   "source": [
    "(val_df.cum + 1).cumprod().plot(figsize=(20,10))"
   ]
  },
  {
   "cell_type": "code",
   "execution_count": 115,
   "id": "4918e0d3",
   "metadata": {},
   "outputs": [
    {
     "data": {
      "text/html": [
       "<div>\n",
       "<style scoped>\n",
       "    .dataframe tbody tr th:only-of-type {\n",
       "        vertical-align: middle;\n",
       "    }\n",
       "\n",
       "    .dataframe tbody tr th {\n",
       "        vertical-align: top;\n",
       "    }\n",
       "\n",
       "    .dataframe thead th {\n",
       "        text-align: right;\n",
       "    }\n",
       "</style>\n",
       "<table border=\"1\" class=\"dataframe\">\n",
       "  <thead>\n",
       "    <tr style=\"text-align: right;\">\n",
       "      <th></th>\n",
       "      <th>preds</th>\n",
       "      <th>res</th>\n",
       "      <th>Close</th>\n",
       "      <th>Open</th>\n",
       "      <th>High</th>\n",
       "      <th>Low</th>\n",
       "      <th>Volume</th>\n",
       "      <th>Change</th>\n",
       "      <th>gap</th>\n",
       "      <th>cum</th>\n",
       "    </tr>\n",
       "  </thead>\n",
       "  <tbody>\n",
       "    <tr>\n",
       "      <th>2016-07-25</th>\n",
       "      <td>0.003355</td>\n",
       "      <td>1</td>\n",
       "      <td>2012.32</td>\n",
       "      <td>2014.74</td>\n",
       "      <td>2020.69</td>\n",
       "      <td>2006.63</td>\n",
       "      <td>350230000.0</td>\n",
       "      <td>0.0010</td>\n",
       "      <td>-0.001201</td>\n",
       "      <td>-0.001201</td>\n",
       "    </tr>\n",
       "    <tr>\n",
       "      <th>2016-08-01</th>\n",
       "      <td>0.005771</td>\n",
       "      <td>1</td>\n",
       "      <td>2029.61</td>\n",
       "      <td>2024.71</td>\n",
       "      <td>2031.58</td>\n",
       "      <td>2024.57</td>\n",
       "      <td>369590000.0</td>\n",
       "      <td>0.0067</td>\n",
       "      <td>0.002420</td>\n",
       "      <td>0.002420</td>\n",
       "    </tr>\n",
       "    <tr>\n",
       "      <th>2016-08-08</th>\n",
       "      <td>0.006252</td>\n",
       "      <td>1</td>\n",
       "      <td>2031.12</td>\n",
       "      <td>2025.55</td>\n",
       "      <td>2031.14</td>\n",
       "      <td>2018.81</td>\n",
       "      <td>270480000.0</td>\n",
       "      <td>0.0065</td>\n",
       "      <td>0.002750</td>\n",
       "      <td>0.002750</td>\n",
       "    </tr>\n",
       "    <tr>\n",
       "      <th>2016-08-16</th>\n",
       "      <td>0.003164</td>\n",
       "      <td>1</td>\n",
       "      <td>2047.76</td>\n",
       "      <td>2056.00</td>\n",
       "      <td>2063.09</td>\n",
       "      <td>2047.73</td>\n",
       "      <td>374870000.0</td>\n",
       "      <td>-0.0013</td>\n",
       "      <td>-0.004008</td>\n",
       "      <td>-0.004008</td>\n",
       "    </tr>\n",
       "    <tr>\n",
       "      <th>2016-08-22</th>\n",
       "      <td>0.000996</td>\n",
       "      <td>1</td>\n",
       "      <td>2042.16</td>\n",
       "      <td>2054.37</td>\n",
       "      <td>2054.71</td>\n",
       "      <td>2040.51</td>\n",
       "      <td>343500000.0</td>\n",
       "      <td>-0.0068</td>\n",
       "      <td>-0.005943</td>\n",
       "      <td>-0.005943</td>\n",
       "    </tr>\n",
       "    <tr>\n",
       "      <th>...</th>\n",
       "      <td>...</td>\n",
       "      <td>...</td>\n",
       "      <td>...</td>\n",
       "      <td>...</td>\n",
       "      <td>...</td>\n",
       "      <td>...</td>\n",
       "      <td>...</td>\n",
       "      <td>...</td>\n",
       "      <td>...</td>\n",
       "      <td>...</td>\n",
       "    </tr>\n",
       "    <tr>\n",
       "      <th>2021-10-05</th>\n",
       "      <td>0.002872</td>\n",
       "      <td>1</td>\n",
       "      <td>2962.17</td>\n",
       "      <td>2998.17</td>\n",
       "      <td>2998.17</td>\n",
       "      <td>2940.59</td>\n",
       "      <td>840560000.0</td>\n",
       "      <td>-0.0189</td>\n",
       "      <td>-0.012007</td>\n",
       "      <td>-0.012007</td>\n",
       "    </tr>\n",
       "    <tr>\n",
       "      <th>2021-10-12</th>\n",
       "      <td>-0.000081</td>\n",
       "      <td>0</td>\n",
       "      <td>2916.38</td>\n",
       "      <td>2950.22</td>\n",
       "      <td>2950.94</td>\n",
       "      <td>2901.51</td>\n",
       "      <td>660180000.0</td>\n",
       "      <td>-0.0135</td>\n",
       "      <td>-0.011470</td>\n",
       "      <td>-0.000000</td>\n",
       "    </tr>\n",
       "    <tr>\n",
       "      <th>2021-10-18</th>\n",
       "      <td>0.004564</td>\n",
       "      <td>1</td>\n",
       "      <td>3006.68</td>\n",
       "      <td>3017.48</td>\n",
       "      <td>3021.17</td>\n",
       "      <td>2990.44</td>\n",
       "      <td>926370000.0</td>\n",
       "      <td>-0.0028</td>\n",
       "      <td>-0.003579</td>\n",
       "      <td>-0.003579</td>\n",
       "    </tr>\n",
       "    <tr>\n",
       "      <th>2021-10-25</th>\n",
       "      <td>0.002502</td>\n",
       "      <td>1</td>\n",
       "      <td>3020.54</td>\n",
       "      <td>3001.10</td>\n",
       "      <td>3025.27</td>\n",
       "      <td>2983.29</td>\n",
       "      <td>791800000.0</td>\n",
       "      <td>0.0048</td>\n",
       "      <td>0.006478</td>\n",
       "      <td>0.006478</td>\n",
       "    </tr>\n",
       "    <tr>\n",
       "      <th>2021-11-01</th>\n",
       "      <td>0.006113</td>\n",
       "      <td>1</td>\n",
       "      <td>2978.94</td>\n",
       "      <td>2984.18</td>\n",
       "      <td>2991.81</td>\n",
       "      <td>2976.87</td>\n",
       "      <td>475380000.0</td>\n",
       "      <td>0.0028</td>\n",
       "      <td>-0.001756</td>\n",
       "      <td>-0.001756</td>\n",
       "    </tr>\n",
       "  </tbody>\n",
       "</table>\n",
       "<p>300 rows × 10 columns</p>\n",
       "</div>"
      ],
      "text/plain": [
       "               preds  res    Close     Open     High      Low       Volume  \\\n",
       "2016-07-25  0.003355    1  2012.32  2014.74  2020.69  2006.63  350230000.0   \n",
       "2016-08-01  0.005771    1  2029.61  2024.71  2031.58  2024.57  369590000.0   \n",
       "2016-08-08  0.006252    1  2031.12  2025.55  2031.14  2018.81  270480000.0   \n",
       "2016-08-16  0.003164    1  2047.76  2056.00  2063.09  2047.73  374870000.0   \n",
       "2016-08-22  0.000996    1  2042.16  2054.37  2054.71  2040.51  343500000.0   \n",
       "...              ...  ...      ...      ...      ...      ...          ...   \n",
       "2021-10-05  0.002872    1  2962.17  2998.17  2998.17  2940.59  840560000.0   \n",
       "2021-10-12 -0.000081    0  2916.38  2950.22  2950.94  2901.51  660180000.0   \n",
       "2021-10-18  0.004564    1  3006.68  3017.48  3021.17  2990.44  926370000.0   \n",
       "2021-10-25  0.002502    1  3020.54  3001.10  3025.27  2983.29  791800000.0   \n",
       "2021-11-01  0.006113    1  2978.94  2984.18  2991.81  2976.87  475380000.0   \n",
       "\n",
       "            Change       gap       cum  \n",
       "2016-07-25  0.0010 -0.001201 -0.001201  \n",
       "2016-08-01  0.0067  0.002420  0.002420  \n",
       "2016-08-08  0.0065  0.002750  0.002750  \n",
       "2016-08-16 -0.0013 -0.004008 -0.004008  \n",
       "2016-08-22 -0.0068 -0.005943 -0.005943  \n",
       "...            ...       ...       ...  \n",
       "2021-10-05 -0.0189 -0.012007 -0.012007  \n",
       "2021-10-12 -0.0135 -0.011470 -0.000000  \n",
       "2021-10-18 -0.0028 -0.003579 -0.003579  \n",
       "2021-10-25  0.0048  0.006478  0.006478  \n",
       "2021-11-01  0.0028 -0.001756 -0.001756  \n",
       "\n",
       "[300 rows x 10 columns]"
      ]
     },
     "execution_count": 115,
     "metadata": {},
     "output_type": "execute_result"
    }
   ],
   "source": [
    "val_df"
   ]
  },
  {
   "cell_type": "code",
   "execution_count": 116,
   "id": "90e3233f",
   "metadata": {},
   "outputs": [
    {
     "data": {
      "text/plain": [
       "2016-07-25    0.998799\n",
       "2016-08-01    1.001216\n",
       "2016-08-08    1.003969\n",
       "2016-08-16    0.999946\n",
       "2016-08-22    0.994002\n",
       "                ...   \n",
       "2021-10-05    0.895606\n",
       "2021-10-12    0.895606\n",
       "2021-10-18    0.892401\n",
       "2021-10-25    0.898181\n",
       "2021-11-01    0.896604\n",
       "Name: cum, Length: 300, dtype: float64"
      ]
     },
     "execution_count": 116,
     "metadata": {},
     "output_type": "execute_result"
    }
   ],
   "source": [
    "(val_df.cum + 1).cumprod()"
   ]
  },
  {
   "cell_type": "code",
   "execution_count": null,
   "id": "32d2ebde",
   "metadata": {},
   "outputs": [],
   "source": []
  }
 ],
 "metadata": {
  "kernelspec": {
   "display_name": "Python 3 (ipykernel)",
   "language": "python",
   "name": "python3"
  },
  "language_info": {
   "codemirror_mode": {
    "name": "ipython",
    "version": 3
   },
   "file_extension": ".py",
   "mimetype": "text/x-python",
   "name": "python",
   "nbconvert_exporter": "python",
   "pygments_lexer": "ipython3",
   "version": "3.8.12"
  }
 },
 "nbformat": 4,
 "nbformat_minor": 5
}
